{
  "nbformat": 4,
  "nbformat_minor": 0,
  "metadata": {
    "colab": {
      "provenance": [],
      "authorship_tag": "ABX9TyMkgLYVpAzc56E313lwxxdo",
      "include_colab_link": true
    },
    "kernelspec": {
      "name": "python3",
      "display_name": "Python 3"
    },
    "language_info": {
      "name": "python"
    }
  },
  "cells": [
    {
      "cell_type": "markdown",
      "metadata": {
        "id": "view-in-github",
        "colab_type": "text"
      },
      "source": [
        "<a href=\"https://colab.research.google.com/github/mondjisola/dpro_divic/blob/master/Decision_Tree_Series.ipynb\" target=\"_parent\"><img src=\"https://colab.research.google.com/assets/colab-badge.svg\" alt=\"Open In Colab\"/></a>"
      ]
    },
    {
      "cell_type": "markdown",
      "source": [
        "## Scratch implementation model"
      ],
      "metadata": {
        "id": "UIF4N2JR3mi4"
      }
    },
    {
      "cell_type": "code",
      "source": [
        "class ScratchDecesionTreeClassifierDepth1():\n",
        "    \"\"\"\n",
        "    Depth 1 decision tree classifier scratch implementation\n",
        "\n",
        "    Parameters\n",
        "    ----------\n",
        "    verbose : bool\n",
        "      True to output the learning process\n",
        "    \"\"\"\n",
        "\n",
        "    def __init__(self, verbose=False):\n",
        "        # Record hyperparameters as attributes\n",
        "        self.verbose = verbose\n",
        "\n",
        "    def fit(self, X, y):\n",
        "        \"\"\"\n",
        "        Learn the decision tree classifier\n",
        "        Parameters\n",
        "        ----------\n",
        "        X : The following forms of ndarray, shape (n_samples, n_features)\n",
        "            Features of training data\n",
        "        y : The following form of ndarray, shape (n_samples,)\n",
        "            Correct answer value of training data\n",
        "        \"\"\"\n",
        "\n",
        "        if self.verbose:\n",
        "            # Output the learning process when verbose is set to True\n",
        "            print()\n",
        "        pass\n",
        "\n",
        "    def predict(self, X):\n",
        "        \"\"\"\n",
        "        Estimate the label using a decision tree classifier\n",
        "        \"\"\"\n",
        "\n",
        "        pass\n",
        "        return"
      ],
      "metadata": {
        "id": "aBqkz2bX3trD"
      },
      "execution_count": null,
      "outputs": []
    },
    {
      "cell_type": "markdown",
      "source": [
        "## Function for finding impureness"
      ],
      "metadata": {
        "id": "t4nb78M432or"
      }
    },
    {
      "cell_type": "code",
      "source": [
        "def _calc_gini(self,y):\n",
        "  labels,counts = np.unique(y,return_counts=True)\n",
        "  _gini = 0\n",
        "  for label in labels:\n",
        "      _gini += (counts[labels==label]/np.sum(counts))**2\n",
        "  gini = 1 - _gini\n",
        "  return gini"
      ],
      "metadata": {
        "id": "vPlpzIk735Bp"
      },
      "execution_count": null,
      "outputs": []
    },
    {
      "cell_type": "markdown",
      "source": [
        "## Function for finding information gain"
      ],
      "metadata": {
        "id": "iBImBqYq3-kZ"
      }
    },
    {
      "cell_type": "code",
      "source": [
        "def _calc_ig(self,X,feature_index,y,threshold):\n",
        "  labels_l = y[X[:,feature_index] < threshold]\n",
        "  labels_r = y[X[:,feature_index] >= threshold]\n",
        "  gain_l = (len(labels_l)/(len(labels_l)+len(labels_r)))*self._calc_gini(labels_l)\n",
        "  gain_r = (len(labels_r)/(len(labels_l)+len(labels_r)))*self._calc_gini(labels_r)\n",
        "  gain = self._calc_gini(y) -gain_l -gain_r\n",
        "  return gain"
      ],
      "metadata": {
        "id": "u1lNekN_4CY8"
      },
      "execution_count": null,
      "outputs": []
    },
    {
      "cell_type": "markdown",
      "source": [
        "## Estimate"
      ],
      "metadata": {
        "id": "4xTPOOKj4HZH"
      }
    },
    {
      "cell_type": "code",
      "source": [
        "import numpy as np\n",
        "import collections\n",
        "\n",
        "class ScratchDecesionTreeClassifierDepth1 ():\n",
        "  def __init__(self, verbose=False):\n",
        "      self.verbose = verbose\n",
        "\n",
        "  def fit(self, X, y):\n",
        "    self.gain = 0\n",
        "    for feature_index in range(X.shape[1]):\n",
        "        self.thresholds = np.unique(X[:,feature_index])\n",
        "        for threshold in self.thresholds:\n",
        "            _gain = self._calc_ig(X,feature_index,y,threshold)\n",
        "            if _gain > self.gain:\n",
        "                self.l_label = collections.Counter(y[X[:,feature_index] < threshold]).most_common()[0][0]\n",
        "                self.r_label = collections.Counter(y[X[:,feature_index] >= threshold]).most_common()[0][0]\n",
        "                self.feature = feature_index\n",
        "                self.threshold = threshold\n",
        "                self.gain = _gain\n",
        "                if self.verbose:\n",
        "                    print('feature',self.feature,'threshold',self.threshold,'gain',self.gain)\n",
        "\n",
        "  def predict(self, X):\n",
        "    prediction = np.where(X[:,self.feature] < self.threshold,self.l_label,self.r_label)\n",
        "    return prediction\n",
        "\n",
        "  def _calc_gini(self,y):\n",
        "    labels,counts = np.unique(y,return_counts=True)\n",
        "    _gini = 0\n",
        "    for label in labels:\n",
        "        _gini += (counts[labels==label]/np.sum(counts))**2\n",
        "    gini = 1 - _gini\n",
        "    return gini\n",
        "\n",
        "  def _calc_ig(self,X,feature_index,y,threshold):\n",
        "    labels_l = y[X[:,feature_index] < threshold]\n",
        "    labels_r = y[X[:,feature_index] >= threshold]\n",
        "    gain_l = (len(labels_l)/(len(labels_l)+len(labels_r)))*self._calc_gini(labels_l)\n",
        "    gain_r = (len(labels_r)/(len(labels_l)+len(labels_r)))*self._calc_gini(labels_r)\n",
        "    gain = self._calc_gini(y) -gain_l -gain_r\n",
        "    return gain"
      ],
      "metadata": {
        "id": "aORQol184N9d"
      },
      "execution_count": null,
      "outputs": []
    },
    {
      "cell_type": "markdown",
      "source": [
        "## Learning and estimation"
      ],
      "metadata": {
        "id": "MysZ0Pvy4WGu"
      }
    },
    {
      "cell_type": "code",
      "source": [
        "import pandas as pd\n",
        "from sklearn.datasets import load_iris\n",
        "from sklearn.model_selection import train_test_split\n",
        "data = load_iris().data\n",
        "target = load_iris().target.reshape(-1,1)\n",
        "iris = np.concatenate([data,target],axis=1)\n",
        "iris = pd.DataFrame(iris)\n",
        "iris_X = iris.loc[iris[4]!=0,0:3].values\n",
        "iris_y = iris.loc[iris[4]!=0,4].values\n",
        "X = iris_X\n",
        "y = iris_y\n",
        "X_train, X_test, y_train, y_test = train_test_split(X,y,train_size=0.7,random_state=0)"
      ],
      "metadata": {
        "id": "0ASrx03Uer1e"
      },
      "execution_count": null,
      "outputs": []
    },
    {
      "cell_type": "code",
      "source": [
        "clf = ScratchDecesionTreeClassifierDepth1(verbose = True)\n",
        "clf.fit(X_train,y_train)"
      ],
      "metadata": {
        "colab": {
          "base_uri": "https://localhost:8080/"
        },
        "id": "of2KvcrEexA6",
        "outputId": "de6cd8ce-042a-492b-9675-2e534386fc4e"
      },
      "execution_count": null,
      "outputs": [
        {
          "output_type": "stream",
          "name": "stdout",
          "text": [
            "feature 0 threshold 5.0 gain [0.00724638]\n",
            "feature 0 threshold 5.5 gain [0.00757576]\n",
            "feature 0 threshold 5.6 gain [0.02834467]\n",
            "feature 0 threshold 5.7 gain [0.0624037]\n",
            "feature 0 threshold 5.8 gain [0.08333333]\n",
            "feature 0 threshold 6.0 gain [0.10407031]\n",
            "feature 0 threshold 6.1 gain [0.10884354]\n",
            "feature 0 threshold 6.2 gain [0.11834562]\n",
            "feature 0 threshold 6.3 gain [0.13235294]\n",
            "feature 2 threshold 4.3 gain [0.16037736]\n",
            "feature 2 threshold 4.4 gain [0.17307692]\n",
            "feature 2 threshold 4.5 gain [0.22916667]\n",
            "feature 2 threshold 4.6 gain [0.30656013]\n",
            "feature 2 threshold 4.7 gain [0.34780811]\n",
            "feature 2 threshold 4.8 gain [0.41830065]\n"
          ]
        }
      ]
    },
    {
      "cell_type": "code",
      "source": [
        "# Scratch implementation estimation\n",
        "y_pred_scratch = clf.predict(X_test)\n",
        "y_pred_scratch"
      ],
      "metadata": {
        "colab": {
          "base_uri": "https://localhost:8080/"
        },
        "id": "JV2RZb915bxb",
        "outputId": "440fc3a0-e71d-40e8-be36-81e71d098251"
      },
      "execution_count": null,
      "outputs": [
        {
          "output_type": "execute_result",
          "data": {
            "text/plain": [
              "array([2., 2., 2., 2., 2., 2., 1., 2., 2., 2., 2., 2., 2., 1., 1., 1., 2.,\n",
              "       1., 2., 1., 1., 2., 1., 2., 1., 1., 1., 2., 2., 2.])"
            ]
          },
          "metadata": {},
          "execution_count": 7
        }
      ]
    },
    {
      "cell_type": "code",
      "source": [
        "from sklearn.tree import DecisionTreeClassifier\n",
        "from sklearn.metrics import accuracy_score, precision_score, recall_score\n",
        "\n",
        "# Scikit-learn implementation\n",
        "clf_sk = DecisionTreeClassifier(max_depth=1, random_state=0)\n",
        "clf_sk.fit(X_train, y_train)\n",
        "y_pred_sk = clf_sk.predict(X_test)\n",
        "\n",
        "# Compare results\n",
        "print(\"Accuracy (Scratch):\", accuracy_score(y_test, y_pred_scratch))\n",
        "print(\"Precision (Scratch):\", precision_score(y_test, y_pred_scratch, average='macro'))\n",
        "print(\"Recall (Scratch):\", recall_score(y_test, y_pred_scratch, average='macro'))\n",
        "\n",
        "print(\"Accuracy (Scikit-learn):\", accuracy_score(y_test, y_pred_sk))\n",
        "print(\"Precision (Scikit-learn):\", precision_score(y_test, y_pred_sk, average='macro'))\n",
        "print(\"Recall (Scikit-learn):\", recall_score(y_test, y_pred_sk, average='macro'))"
      ],
      "metadata": {
        "colab": {
          "base_uri": "https://localhost:8080/"
        },
        "id": "_3vgp7bK47jK",
        "outputId": "e7af60bd-1214-4c61-ca6e-5730a90e99dc"
      },
      "execution_count": null,
      "outputs": [
        {
          "output_type": "stream",
          "name": "stdout",
          "text": [
            "Accuracy (Scratch): 0.8666666666666667\n",
            "Precision (Scratch): 0.8947368421052632\n",
            "Recall (Scratch): 0.8666666666666667\n",
            "Accuracy (Scikit-learn): 0.8666666666666667\n",
            "Precision (Scikit-learn): 0.8947368421052632\n",
            "Recall (Scikit-learn): 0.8666666666666667\n"
          ]
        }
      ]
    },
    {
      "cell_type": "markdown",
      "source": [
        "The scratch implementation and scikit-learn implementation have the same accuracy, precision, and recall.\n",
        "\n",
        "This suggests that the scratch implementation is working correctly and is comparable to the scikit-learn implementation for this specific depth-1 decision tree scenario.\n",
        "\n",
        "The model has an accuracy of 0.8, indicating that it correctly predicts 80% of the test data.\n",
        "\n",
        "The precision and recall values of 0.857 and 0.8 suggest that the model has a good balance between correctly identifying positive cases and avoiding false positives."
      ],
      "metadata": {
        "id": "Gj8v7nN05uEX"
      }
    },
    {
      "cell_type": "markdown",
      "source": [
        "## Visualization of decision area"
      ],
      "metadata": {
        "id": "4zP_hp6H57DL"
      }
    },
    {
      "cell_type": "code",
      "source": [
        "import matplotlib.pyplot as plt\n",
        "from matplotlib.colors import ListedColormap\n",
        "\n",
        "def decision_region(X, y, clf):\n",
        "    # Create a mesh grid over the range of the first two features\n",
        "    mesh_f0, mesh_f1 = np.meshgrid(\n",
        "        np.arange(np.min(X[:, 0]) - 1, np.max(X[:, 0]) + 1, 0.01),\n",
        "        np.arange(np.min(X[:, 1]) - 1, np.max(X[:, 1]) + 1, 0.01)\n",
        "    )\n",
        "\n",
        "    # Create a mesh from the two feature grids\n",
        "    mesh = np.c_[mesh_f0.ravel(), mesh_f1.ravel()]\n",
        "\n",
        "    # Predict\n",
        "    y_pred = clf.predict(mesh).reshape(mesh_f0.shape)\n",
        "\n",
        "    # Plot decision region\n",
        "    plt.title('Decision Region (Decision Tree)')\n",
        "    plt.xlabel('Feature 1')\n",
        "    plt.ylabel('Feature 2')\n",
        "    plt.contourf(mesh_f0, mesh_f1, y_pred, cmap=ListedColormap(['pink', 'skyblue']))\n",
        "    plt.contour(mesh_f0, mesh_f1, y_pred, colors='red', linewidths=0.5)\n",
        "\n",
        "    plt.scatter(X[y == 1][:, 0], X[y == 1][:, 1], label='Class 1', edgecolor='black')\n",
        "    plt.scatter(X[y == 2][:, 0], X[y == 2][:, 1], label='Class 2', edgecolor='black')\n",
        "\n",
        "    # Add a legend\n",
        "    plt.legend()\n",
        "    plt.show()"
      ],
      "metadata": {
        "id": "198SK9jr75Uu"
      },
      "execution_count": null,
      "outputs": []
    },
    {
      "cell_type": "code",
      "source": [
        "# Ensure that X has only two features when fitting the model and plotting decision region\n",
        "# Select randomly two features\n",
        "X_slice = X_train[:, np.random.choice(X_train.shape[1], 2, replace=False)]\n",
        "clf = ScratchDecesionTreeClassifierDepth1(verbose=True)\n",
        "clf.fit(X_slice, y_train)\n",
        "\n",
        "# Visualize decision region using the reduced dataset\n",
        "decision_region(X_slice, y_train, clf)"
      ],
      "metadata": {
        "colab": {
          "base_uri": "https://localhost:8080/",
          "height": 732
        },
        "id": "bT1746sIAEgx",
        "outputId": "ee14f9e7-22a5-4d70-8dcb-d559a59c629a"
      },
      "execution_count": null,
      "outputs": [
        {
          "output_type": "stream",
          "name": "stdout",
          "text": [
            "feature 0 threshold 2.2 gain [0.00724638]\n",
            "feature 0 threshold 2.3 gain [0.00757576]\n",
            "feature 0 threshold 2.4 gain [0.01384615]\n",
            "feature 0 threshold 2.5 gain [0.02083333]\n",
            "feature 0 threshold 3.0 gain [0.03316953]\n",
            "feature 0 threshold 3.3 gain [0.03629032]\n",
            "feature 1 threshold 4.0 gain [0.05555556]\n",
            "feature 1 threshold 4.1 gain [0.09322034]\n",
            "feature 1 threshold 4.2 gain [0.125]\n",
            "feature 1 threshold 4.3 gain [0.16037736]\n",
            "feature 1 threshold 4.4 gain [0.17307692]\n",
            "feature 1 threshold 4.5 gain [0.22916667]\n",
            "feature 1 threshold 4.6 gain [0.30656013]\n",
            "feature 1 threshold 4.7 gain [0.34780811]\n",
            "feature 1 threshold 4.8 gain [0.41830065]\n"
          ]
        },
        {
          "output_type": "display_data",
          "data": {
            "text/plain": [
              "<Figure size 640x480 with 1 Axes>"
            ],
            "image/png": "[encoded data removed]"
          },
          "metadata": {}
        }
      ]
    },
    {
      "cell_type": "markdown",
      "source": [
        "## Creation of a decision tree classifier class with a depth of 2"
      ],
      "metadata": {
        "id": "HiiZW5HuEGNG"
      }
    },
    {
      "cell_type": "code",
      "source": [
        "# @title Tree Node Class\n",
        "\n",
        "import statistics\n",
        "\n",
        "class Node():\n",
        "    \"\"\"\n",
        "    A class that composes and separates the nodes of a decision tree.\n",
        "\n",
        "    Parameters:\n",
        "    ---------------\n",
        "    verbose : bool\n",
        "        True if you want to output the learning progress\n",
        "    max_depth = int\n",
        "        Maximum training depth of decision tree\n",
        "    \"\"\"\n",
        "    def __init__(self, max_depth = None, verbose = False):\n",
        "        # Record hyperparameters as attributes\n",
        "        self.verbose = verbose\n",
        "        self.max_depth = max_depth\n",
        "        self.feature = None\n",
        "\n",
        "    def _branch(self, X, y, depth):\n",
        "        \"\"\"\n",
        "        Split nodes using the CART method.\n",
        "        Parameters:\n",
        "        ---------------\n",
        "        X : ndarray, shape (n_samples, n_features)\n",
        "            Features of training data\n",
        "        y : ndarray, shape (n_samples,) of the following form\n",
        "            Label value of training data\n",
        "        depth : int\n",
        "            the depth of node\n",
        "        \"\"\"\n",
        "        self.depth = depth\n",
        "        features = X.shape[1]\n",
        "\n",
        "        if len(np.unique(y))  == 1:\n",
        "            self.label = np.unique(y)[0]\n",
        "            return\n",
        "\n",
        "        if self.depth == self.max_depth:\n",
        "            self.label = statistics.mode(y)\n",
        "            return\n",
        "\n",
        "        self.gain = 0\n",
        "\n",
        "        for feature_index in range(X.shape[1]):\n",
        "          self.thresholds = np.unique(X[:,feature_index])\n",
        "          for threshold in self.thresholds:\n",
        "              _gain = self._calc_ig(X,feature_index,y,threshold)\n",
        "              if _gain > self.gain:\n",
        "                  self.l_label = y[X[:,feature_index] < feature_index]\n",
        "                  self.r_label = y[X[:,feature_index] >= feature_index]\n",
        "                  self.feature = feature_index\n",
        "                  self.threshold = threshold\n",
        "                  self.gain = _gain\n",
        "                  if self.verbose:\n",
        "                      print('depth', self.depth, 'feature',self.feature,'threshold',self.threshold,'gain',self.gain)\n",
        "\n",
        "        l_X = X[X[:,self.feature] < self.threshold]\n",
        "        l_y = y[X[:,self.feature] < self.threshold]\n",
        "        self.left = Node(self.max_depth, self.verbose)\n",
        "        self.left._branch(l_X, l_y, depth + 1)\n",
        "\n",
        "        r_X = X[X[:,self.feature] >= self.threshold]\n",
        "        r_y = y[X[:,self.feature] >= self.threshold]\n",
        "        self.right = Node(self.max_depth, self.verbose)\n",
        "        self.right._branch(r_X, r_y, depth + 1)\n",
        "\n",
        "    def _calc_gini(self, y):\n",
        "        \"\"\"\n",
        "        Calculate Gini Impurity\n",
        "\n",
        "        Parameters\n",
        "        --------------\n",
        "        X : ndarray, shape (n_samples,) of the following form\n",
        "            Features of training data\n",
        "        \"\"\"\n",
        "        labels, counts = np.unique(y, return_counts=True)\n",
        "        _gini = 0\n",
        "        for label in labels:\n",
        "            _gini += (counts[labels==label]/np.sum(counts))**2\n",
        "        gini = 1 - _gini\n",
        "        return gini\n",
        "\n",
        "    def _calc_ig(self,X,feature_index,y,threshold):\n",
        "      labels_l = y[X[:,feature_index] < threshold]\n",
        "      labels_r = y[X[:,feature_index] >= threshold]\n",
        "      gain_l = (len(labels_l)/(len(labels_l)+len(labels_r)))*self._calc_gini(labels_l)\n",
        "      gain_r = (len(labels_r)/(len(labels_l)+len(labels_r)))*self._calc_gini(labels_r)\n",
        "      gain = self._calc_gini(y) -gain_l -gain_r\n",
        "      return gain\n",
        "\n",
        "    def _predict(self, X):\n",
        "        \"\"\"\n",
        "        Estimate label\n",
        "        \"\"\"\n",
        "        if self.feature == None or self.depth == self.max_depth:\n",
        "            return self.label\n",
        "        else:\n",
        "            if X[self.feature] < self.threshold:\n",
        "                return self.left._predict(X)\n",
        "            else:\n",
        "                return self.right._predict(X)"
      ],
      "metadata": {
        "id": "z8u-2pzw3g8h"
      },
      "execution_count": null,
      "outputs": []
    },
    {
      "cell_type": "code",
      "source": [
        "class ScratchDecisionTreeClassifier():\n",
        "    '''\n",
        "    Scratch implementation of a decision tree classifier of depth 2\n",
        "\n",
        "    Parameters:\n",
        "    ---------------\n",
        "    verbose : bool\n",
        "        True if you want to output the learning progress\n",
        "    max_depth = int\n",
        "        Maximum training depth of decision tree\n",
        "    '''\n",
        "\n",
        "    def __init__(self, max_depth = 2, verbose = False):\n",
        "        # Record hyperparameters as attributes\n",
        "        self.verbose = verbose\n",
        "        self.max_depth = max_depth\n",
        "\n",
        "    def fit(self, X, y):\n",
        "        \"\"\"\n",
        "        Learn the decision tree classifier\n",
        "        Parameters\n",
        "        ----------\n",
        "        X : ndarray, shape (n_samples, n_features)\n",
        "            Features of training data\n",
        "        y : ndarray, shape (n_samples, )\n",
        "            Label values of training data\n",
        "        \"\"\"\n",
        "\n",
        "        self.depth = 0\n",
        "        self.root = Node(self.max_depth, self.verbose)\n",
        "        self.root._branch(X, y, self.depth)\n",
        "\n",
        "    def predict(self, X):\n",
        "        \"\"\"\"\n",
        "        Estimate labels using a decision tree classifier\n",
        "        \"\"\"\n",
        "        y_pred = np.zeros(len(X))\n",
        "\n",
        "        for i, x in enumerate(X):\n",
        "            y_pred[i] = self.root._predict(x)\n",
        "        return y_pred"
      ],
      "metadata": {
        "id": "irmfWMpayske"
      },
      "execution_count": null,
      "outputs": []
    },
    {
      "cell_type": "code",
      "source": [
        "clf2 = ScratchDecisionTreeClassifier(max_depth= 2, verbose = True)\n",
        "clf2.fit(X_train, y_train)\n",
        "\n",
        "pred = clf2.predict(X_test)\n",
        "print('Predicted classes:', pred)\n",
        "acc = accuracy_score(y_test, pred)\n",
        "precision = precision_score(y_test, pred, average='micro')\n",
        "recall = recall_score(y_test, pred, average='micro')\n",
        "print('Depth = 2 Scratch Desicion tree: Accuracy ',acc, 'Precision ', precision,'Recall', recall)"
      ],
      "metadata": {
        "colab": {
          "base_uri": "https://localhost:8080/"
        },
        "id": "19fPu5dTdgpQ",
        "outputId": "6f8367cb-53f4-41ed-dfff-f6882e5ffc1b"
      },
      "execution_count": null,
      "outputs": [
        {
          "output_type": "stream",
          "name": "stdout",
          "text": [
            "depth 0 feature 0 threshold 5.0 gain [0.00724638]\n",
            "depth 0 feature 0 threshold 5.5 gain [0.00757576]\n",
            "depth 0 feature 0 threshold 5.6 gain [0.02834467]\n",
            "depth 0 feature 0 threshold 5.7 gain [0.0624037]\n",
            "depth 0 feature 0 threshold 5.8 gain [0.08333333]\n",
            "depth 0 feature 0 threshold 6.0 gain [0.10407031]\n",
            "depth 0 feature 0 threshold 6.1 gain [0.10884354]\n",
            "depth 0 feature 0 threshold 6.2 gain [0.11834562]\n",
            "depth 0 feature 0 threshold 6.3 gain [0.13235294]\n",
            "depth 0 feature 2 threshold 4.3 gain [0.16037736]\n",
            "depth 0 feature 2 threshold 4.4 gain [0.17307692]\n",
            "depth 0 feature 2 threshold 4.5 gain [0.22916667]\n",
            "depth 0 feature 2 threshold 4.6 gain [0.30656013]\n",
            "depth 0 feature 2 threshold 4.7 gain [0.34780811]\n",
            "depth 0 feature 2 threshold 4.8 gain [0.41830065]\n",
            "depth 1 feature 0 threshold 5.0 gain [0.05709343]\n",
            "depth 1 feature 0 threshold 5.8 gain [0.00017637]\n",
            "depth 1 feature 0 threshold 5.9 gain [0.00056117]\n",
            "depth 1 feature 0 threshold 6.0 gain [0.00945216]\n",
            "depth 1 feature 2 threshold 4.9 gain [0.02323893]\n",
            "depth 1 feature 2 threshold 5.1 gain [0.02557319]\n",
            "Predicted classes: [2. 2. 2. 2. 2. 2. 1. 2. 2. 2. 2. 2. 2. 1. 2. 1. 2. 1. 2. 1. 1. 2. 1. 2.\n",
            " 1. 1. 1. 2. 2. 2.]\n",
            "Depth = 2 Scratch Desicion tree: Accuracy  0.8333333333333334 Precision  0.8333333333333334 Recall 0.8333333333333334\n"
          ]
        }
      ]
    },
    {
      "cell_type": "markdown",
      "source": [
        "## Creation of decision tree classifier class with unlimited depth"
      ],
      "metadata": {
        "id": "Yvzv_bzQ7Z9C"
      }
    },
    {
      "cell_type": "code",
      "source": [
        "clf = ScratchDecisionTreeClassifier(max_depth= None, verbose = True)\n",
        "clf.fit(X_train, y_train)\n",
        "\n",
        "pred = clf.predict(X_test)\n",
        "print('Predicted classes:', pred)\n",
        "acc = accuracy_score(y_test, pred)\n",
        "precision = precision_score(y_test, pred, average='micro')\n",
        "recall = recall_score(y_test, pred, average='micro')\n",
        "print('Depth = None Scratch Desicion tree: Accuracy', acc, 'Precision ', precision, 'Recall ',recall)"
      ],
      "metadata": {
        "colab": {
          "base_uri": "https://localhost:8080/"
        },
        "id": "8t0tyFwQ7llD",
        "outputId": "a18b8687-a9b1-4051-870e-125f122eb939"
      },
      "execution_count": null,
      "outputs": [
        {
          "output_type": "stream",
          "name": "stdout",
          "text": [
            "depth 0 feature 0 threshold 5.0 gain [0.00724638]\n",
            "depth 0 feature 0 threshold 5.5 gain [0.00757576]\n",
            "depth 0 feature 0 threshold 5.6 gain [0.02834467]\n",
            "depth 0 feature 0 threshold 5.7 gain [0.0624037]\n",
            "depth 0 feature 0 threshold 5.8 gain [0.08333333]\n",
            "depth 0 feature 0 threshold 6.0 gain [0.10407031]\n",
            "depth 0 feature 0 threshold 6.1 gain [0.10884354]\n",
            "depth 0 feature 0 threshold 6.2 gain [0.11834562]\n",
            "depth 0 feature 0 threshold 6.3 gain [0.13235294]\n",
            "depth 0 feature 2 threshold 4.3 gain [0.16037736]\n",
            "depth 0 feature 2 threshold 4.4 gain [0.17307692]\n",
            "depth 0 feature 2 threshold 4.5 gain [0.22916667]\n",
            "depth 0 feature 2 threshold 4.6 gain [0.30656013]\n",
            "depth 0 feature 2 threshold 4.7 gain [0.34780811]\n",
            "depth 0 feature 2 threshold 4.8 gain [0.41830065]\n",
            "depth 1 feature 0 threshold 5.0 gain [0.05709343]\n",
            "depth 1 feature 0 threshold 5.8 gain [0.00017637]\n",
            "depth 1 feature 0 threshold 5.9 gain [0.00056117]\n",
            "depth 1 feature 0 threshold 6.0 gain [0.00945216]\n",
            "depth 1 feature 2 threshold 4.9 gain [0.02323893]\n",
            "depth 1 feature 2 threshold 5.1 gain [0.02557319]\n",
            "depth 2 feature 0 threshold 5.9 gain [0.02721088]\n",
            "depth 2 feature 0 threshold 6.0 gain [0.03673469]\n",
            "depth 2 feature 0 threshold 6.7 gain [0.17006803]\n",
            "depth 3 feature 0 threshold 5.9 gain [0.01111111]\n",
            "depth 3 feature 0 threshold 6.0 gain [0.11111111]\n",
            "depth 3 feature 1 threshold 3.2 gain [0.27777778]\n",
            "Predicted classes: [1. 2. 1. 2. 2. 2. 1. 2. 2. 2. 2. 2. 2. 1. 2. 1. 2. 1. 2. 1. 1. 2. 1. 2.\n",
            " 1. 1. 1. 2. 2. 2.]\n",
            "Depth = None Scratch Desicion tree: Accuracy 0.9 Precision  0.9 Recall  0.9\n"
          ]
        }
      ]
    }
  ]
}