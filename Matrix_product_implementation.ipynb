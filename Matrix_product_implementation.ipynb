{
  "cells": [
    {
      "cell_type": "markdown",
      "metadata": {
        "id": "view-in-github",
        "colab_type": "text"
      },
      "source": [
        "<a href=\"https://colab.research.google.com/github/mondjisola/dpro_divic/blob/master/Matrix_product_implementation.ipynb\" target=\"_parent\"><img src=\"https://colab.research.google.com/assets/colab-badge.svg\" alt=\"Open In Colab\"/></a>"
      ]
    },
    {
      "cell_type": "markdown",
      "source": [
        "[Problem 1] Matrix product is calculated manually"
      ],
      "metadata": {
        "id": "GH0AW7ZeAxuk"
      }
    },
    {
      "cell_type": "code",
      "source": [
        "import numpy as np"
      ],
      "metadata": {
        "id": "NKLttNwf-yvI"
      },
      "execution_count": null,
      "outputs": []
    },
    {
      "cell_type": "markdown",
      "source": [
        "$$\n",
        "A = \\begin{bmatrix}\n",
        "-1 & 2 & 3 \\\\\n",
        "4 & -5 & 6 \\\\\n",
        "7 & 8 & -9\n",
        "\\end{bmatrix}\n",
        "$$"
      ],
      "metadata": {
        "id": "4JNdZwAE-rPl"
      }
    },
    {
      "cell_type": "code",
      "source": [
        "a_ndarray = np.array([[-1, 2, 3], [4, -5, 6], [7, 8, -9]])"
      ],
      "metadata": {
        "id": "qJDhtZG3-pM0"
      },
      "execution_count": null,
      "outputs": []
    },
    {
      "cell_type": "markdown",
      "source": [
        "$$\n",
        "B = \\begin{bmatrix}\n",
        "0 & 2 & 1 \\\\\n",
        "0 & 2 & -8 \\\\\n",
        "2 & 9 & -1\n",
        "\\end{bmatrix}\n",
        "$$"
      ],
      "metadata": {
        "id": "NrXBXzbI_YMu"
      }
    },
    {
      "cell_type": "code",
      "source": [
        "b_ndarray = np.array([[0, 2, 1], [0, 2, -8], [2, 9, -1]])"
      ],
      "metadata": {
        "id": "bsBhASqh_4x5"
      },
      "execution_count": null,
      "outputs": []
    },
    {
      "cell_type": "markdown",
      "source": [
        "The number of columns in $A(3, 3)$ is equal to the number of rows in $B(3, 3)$, so they are compatible for multiplication and the product $AB$ is defined. Then, the product of $A$ and $B$ (denoted as $AB$) is a new matrix $C$(3,3)."
      ],
      "metadata": {
        "id": "AHz5rA8I-1AM"
      }
    },
    {
      "cell_type": "code",
      "source": [
        "c_ndarray = np.zeros((a_ndarray.shape[0], b_ndarray.shape[1])).astype(int)\n",
        "m, n = c_ndarray.shape"
      ],
      "metadata": {
        "id": "EDXPp5JLEdqY"
      },
      "execution_count": null,
      "outputs": []
    },
    {
      "cell_type": "markdown",
      "source": [
        "The element at the ith row and jth column of $C$ (denoted as $cij$​\n",
        ") is calculated as the *sum of the products of the corresponding elements from the ith row of $A$ and the jth column of $B$*:\n",
        "$$\n",
        "c_{ij} = a_{i1}b_{1j} + a_{i2}b_{2j} + a_{i3}b_{3j} = \\sum_{k=1}^{3} a_{ik}b_{kj}\n",
        "$$\n"
      ],
      "metadata": {
        "id": "kuw2RLRJBo6I"
      }
    },
    {
      "cell_type": "code",
      "source": [],
      "metadata": {
        "id": "2kJ0YyDLD_DG"
      },
      "execution_count": null,
      "outputs": []
    },
    {
      "cell_type": "code",
      "source": [
        "# for i in range(m):\n",
        "#   for j in range(n):\n",
        "#     c_ndarray[i, j] = np.sum(a_ndarray[i,:]*b_ndarray[:,j])\n",
        "# c_ndarray\n",
        "# refactorized as following\n",
        "c_ndarray = np.array([[np.sum(a_ndarray[i,:]*b_ndarray[:,j]) for j in range(n)] for i in range(m)])"
      ],
      "metadata": {
        "id": "smY-vSDiLVAR"
      },
      "execution_count": null,
      "outputs": []
    },
    {
      "cell_type": "code",
      "source": [
        "print(\"The matrix product of A and B is: \\n{}\".format(c_ndarray))"
      ],
      "metadata": {
        "colab": {
          "base_uri": "https://localhost:8080/"
        },
        "id": "ePbgoX-ZNCFQ",
        "outputId": "2b9230bb-2df1-425e-abb7-3eae01877b92"
      },
      "execution_count": null,
      "outputs": [
        {
          "output_type": "stream",
          "name": "stdout",
          "text": [
            "The matrix product of A and B is: \n",
            "[[  6  29 -20]\n",
            " [ 12  52  38]\n",
            " [-18 -51 -48]]\n"
          ]
        }
      ]
    },
    {
      "cell_type": "markdown",
      "source": [
        "---"
      ],
      "metadata": {
        "id": "GtlcvekhPYKY"
      }
    },
    {
      "cell_type": "markdown",
      "source": [
        "[Problem 2] Calculation by NumPy function"
      ],
      "metadata": {
        "id": "AvjnzKZrOMuE"
      }
    },
    {
      "cell_type": "code",
      "source": [
        "c_ndarray_matmul = np.matmul(a_ndarray, b_ndarray)\n",
        "c_ndarray_matmul"
      ],
      "metadata": {
        "colab": {
          "base_uri": "https://localhost:8080/"
        },
        "id": "ever-8e-PBEU",
        "outputId": "97efb7dc-01f0-4d5a-fc8b-84de96b0b850"
      },
      "execution_count": null,
      "outputs": [
        {
          "output_type": "execute_result",
          "data": {
            "text/plain": [
              "array([[  6,  29, -20],\n",
              "       [ 12,  52,  38],\n",
              "       [-18, -51, -48]])"
            ]
          },
          "metadata": {},
          "execution_count": 31
        }
      ]
    },
    {
      "cell_type": "code",
      "source": [
        "c_ndarray_dot = np.dot(a_ndarray, b_ndarray)\n",
        "c_ndarray_dot"
      ],
      "metadata": {
        "colab": {
          "base_uri": "https://localhost:8080/"
        },
        "id": "EtRzxRqRQZev",
        "outputId": "ba9ce583-bf9c-41e5-ea2b-6f3731a24903"
      },
      "execution_count": null,
      "outputs": [
        {
          "output_type": "execute_result",
          "data": {
            "text/plain": [
              "array([[  6,  29, -20],\n",
              "       [ 12,  52,  38],\n",
              "       [-18, -51, -48]])"
            ]
          },
          "metadata": {},
          "execution_count": 33
        }
      ]
    },
    {
      "cell_type": "code",
      "source": [
        "c_ndarray_at = a_ndarray@b_ndarray\n",
        "c_ndarray_at"
      ],
      "metadata": {
        "colab": {
          "base_uri": "https://localhost:8080/"
        },
        "id": "_hx5zvFAPQBa",
        "outputId": "cfcdc24a-260b-4be5-e730-a38387fb37f1"
      },
      "execution_count": null,
      "outputs": [
        {
          "output_type": "execute_result",
          "data": {
            "text/plain": [
              "array([[  6,  29, -20],\n",
              "       [ 12,  52,  38],\n",
              "       [-18, -51, -48]])"
            ]
          },
          "metadata": {},
          "execution_count": 32
        }
      ]
    },
    {
      "cell_type": "markdown",
      "source": [
        "---"
      ],
      "metadata": {
        "id": "89ljJvAGQiU6"
      }
    },
    {
      "cell_type": "markdown",
      "source": [
        "[Problem 3] Implementation of calculation of a certain element"
      ],
      "metadata": {
        "id": "iyDZO5suQjdK"
      }
    },
    {
      "cell_type": "markdown",
      "source": [
        "The code to do the calculation of the row 0 of matrix $A$ and column 0 of matrix $B$ is:\n",
        "\n",
        "```\n",
        "np.sum(a[0,:]*b[:,0])\n",
        "```"
      ],
      "metadata": {
        "id": "4ZfwfCyKSSYE"
      }
    },
    {
      "cell_type": "markdown",
      "source": [
        "---"
      ],
      "metadata": {
        "id": "t19TFWngTXfz"
      }
    },
    {
      "cell_type": "markdown",
      "source": [
        "[Problem 4] Creating a function that performs matrix multiplication"
      ],
      "metadata": {
        "id": "4BHJ1r9NTYJu"
      }
    },
    {
      "cell_type": "code",
      "source": [
        "def matrix_product(a: np.ndarray, b: np.ndarray) -> np.ndarray:\n",
        "  \"\"\"A function that returns the matrix resulting of two 2D matrices a and b product calculation.\n",
        "\n",
        "  Parameters\n",
        "  -----------\n",
        "  a: numpy.ndarray\n",
        "      The first matrix.\n",
        "  b: numpy.ndarray\n",
        "      The second matrix.\n",
        "\n",
        "  Returns\n",
        "  -------\n",
        "  numpy.ndarray\n",
        "      The matrix product of a and b.\n",
        "  \"\"\"\n",
        "  import numpy as np\n",
        "  m, n = a.shape[0], b.shape[1]\n",
        "  return np.array([[np.sum(a[i,:]*b[:,j]) for j in range(n)] for i in range(m)])"
      ],
      "metadata": {
        "id": "Bk7w4b5CT493"
      },
      "execution_count": null,
      "outputs": []
    },
    {
      "cell_type": "markdown",
      "source": [
        "---"
      ],
      "metadata": {
        "id": "RAANW4WXbtlQ"
      }
    },
    {
      "cell_type": "markdown",
      "source": [
        "[Problem 5] Judge the input whose calculation is not defined"
      ],
      "metadata": {
        "id": "Au-_oyjabucp"
      }
    },
    {
      "cell_type": "code",
      "source": [
        "def matrix_product(a: np.ndarray, b: np.ndarray) -> np.ndarray:\n",
        "  \"\"\"A function that returns the matrix resulting of two 2D matrices a and b product calculation.\n",
        "\n",
        "  Parameters\n",
        "  -----------\n",
        "  a: numpy.ndarray\n",
        "      The first matrix.\n",
        "  b: numpy.ndarray\n",
        "      The second matrix.\n",
        "\n",
        "  Returns\n",
        "  -------\n",
        "  numpy.ndarray\n",
        "      The matrix product of a and b.\n",
        "  \"\"\"\n",
        "  import numpy as np\n",
        "\n",
        "  if a.shape[1] != b.shape[0]:\n",
        "    print(\"Error: The number of columns in the first matrix must be equal to the number of rows in the second matrix for matrix multiplication.\")\n",
        "    return None\n",
        "  else:\n",
        "    m, n = a.shape[0], b.shape[1]\n",
        "    return np.array([[np.sum(a[i,:]*b[:,j]) for j in range(n)] for i in range(m)])"
      ],
      "metadata": {
        "id": "Yjlxy6StcAd2"
      },
      "execution_count": null,
      "outputs": []
    },
    {
      "cell_type": "code",
      "source": [
        "d_ndarray = np.array([[-1, 2, 3], [4, -5, 6]])\n",
        "e_ndarray = np.array([[-9, 8, 7], [6, -5, 4]])\n",
        "matrix_product(d_ndarray, e_ndarray)"
      ],
      "metadata": {
        "colab": {
          "base_uri": "https://localhost:8080/"
        },
        "id": "DzHpc5cRf3mt",
        "outputId": "d25c2723-2312-456b-84fd-3df21773cac2"
      },
      "execution_count": null,
      "outputs": [
        {
          "output_type": "stream",
          "name": "stdout",
          "text": [
            "Error: The number of columns in the first matrix must be equal to the number of rows in the second matrix for matrix multiplication.\n"
          ]
        }
      ]
    },
    {
      "cell_type": "markdown",
      "source": [
        "---"
      ],
      "metadata": {
        "id": "V3sqv0XygIwK"
      }
    },
    {
      "cell_type": "markdown",
      "source": [
        "[Problem 6] Transposition"
      ],
      "metadata": {
        "id": "_j7O77g_gJxl"
      }
    },
    {
      "cell_type": "code",
      "source": [
        "f_ndarray = e_ndarray.T\n",
        "matrix_product(d_ndarray, f_ndarray)"
      ],
      "metadata": {
        "colab": {
          "base_uri": "https://localhost:8080/"
        },
        "id": "r4wk3-pWhBTT",
        "outputId": "7bfd0aa4-9ae6-498b-a445-533f266be4e3"
      },
      "execution_count": null,
      "outputs": [
        {
          "output_type": "execute_result",
          "data": {
            "text/plain": [
              "array([[ 46,  -4],\n",
              "       [-34,  73]])"
            ]
          },
          "metadata": {},
          "execution_count": 39
        }
      ]
    }
  ],
  "metadata": {
    "colab": {
      "provenance": [],
      "authorship_tag": "ABX9TyO8fhZ2c8qBPX4dEM490FiX",
      "include_colab_link": true
    },
    "kernelspec": {
      "display_name": "Python 3",
      "name": "python3"
    },
    "language_info": {
      "name": "python"
    }
  },
  "nbformat": 4,
  "nbformat_minor": 0
}