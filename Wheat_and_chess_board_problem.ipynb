{
  "nbformat": 4,
  "nbformat_minor": 0,
  "metadata": {
    "colab": {
      "provenance": [],
      "authorship_tag": "ABX9TyPpZ3h1C4VZN58XwC/S/kiT",
      "include_colab_link": true
    },
    "kernelspec": {
      "name": "python3",
      "display_name": "Python 3"
    },
    "language_info": {
      "name": "python"
    }
  },
  "cells": [
    {
      "cell_type": "markdown",
      "metadata": {
        "id": "view-in-github",
        "colab_type": "text"
      },
      "source": [
        "<a href=\"https://colab.research.google.com/github/mondjisola/dpro_divic/blob/master/Wheat_and_chess_board_problem.ipynb\" target=\"_parent\"><img src=\"https://colab.research.google.com/assets/colab-badge.svg\" alt=\"Open In Colab\"/></a>"
      ]
    },
    {
      "cell_type": "markdown",
      "source": [
        "[Problem 1] Number of wheat on a 2 x 2 square chess board"
      ],
      "metadata": {
        "id": "rzCudpOXHp9i"
      }
    },
    {
      "cell_type": "code",
      "source": [
        "# Sample code.\n",
        "n_squares = 4\n",
        "small_board_list = [1]\n",
        "for _ in range(n_squares - 1):\n",
        "    small_board_list.append(2*small_board_list[-1])\n",
        "print(\"Arrange wheat on a plate of 4 squares (list)：{}\".format(small_board_list))"
      ],
      "metadata": {
        "colab": {
          "base_uri": "https://localhost:8080/"
        },
        "id": "aUhE2JuqICdh",
        "outputId": "68a0f1c1-da4e-43fc-9f5f-f35de6386bb1"
      },
      "execution_count": null,
      "outputs": [
        {
          "output_type": "stream",
          "name": "stdout",
          "text": [
            "Arrange wheat on a plate of 4 squares (list)：[1, 2, 4, 8]\n"
          ]
        }
      ]
    },
    {
      "cell_type": "code",
      "source": [
        "import numpy as np\n",
        "\n",
        "small_board_ndarray = np.array(small_board_list)\n",
        "print(\"Arrange wheat on a plate of 4 squares (ndarray)：{}\".format(small_board_ndarray))"
      ],
      "metadata": {
        "colab": {
          "base_uri": "https://localhost:8080/"
        },
        "id": "fL2eZ-8iILHH",
        "outputId": "36a22590-cf99-4a95-8f65-f87fd5cd92b6"
      },
      "execution_count": null,
      "outputs": [
        {
          "output_type": "stream",
          "name": "stdout",
          "text": [
            "Arrange wheat on a plate of 4 squares (ndarray)：[1 2 4 8]\n"
          ]
        }
      ]
    },
    {
      "cell_type": "code",
      "source": [
        "# Represent a 2 x 2 square chessboard by ndarray and calculate the number of wheat in each square.\n",
        "small_board_ndarray.shape = (2, 2)"
      ],
      "metadata": {
        "id": "XQ1PIc-wHr81"
      },
      "execution_count": null,
      "outputs": []
    },
    {
      "cell_type": "markdown",
      "source": [
        "---"
      ],
      "metadata": {
        "id": "HKWTDoyHKGbl"
      }
    },
    {
      "cell_type": "markdown",
      "source": [
        "[Problem 2] Expansion to n × m mass"
      ],
      "metadata": {
        "id": "LQ89alc6J-SR"
      }
    },
    {
      "cell_type": "code",
      "source": [
        "# Function that returns a ndarray containing the number of wheat on an nxm chess board.\n",
        "\n",
        "def chess_board(n, m):\n",
        "  \"\"\"A function that returns a ndarray containing the number of wheat on an n*m chess board.\n",
        "\n",
        "  Parameters\n",
        "  -----------\n",
        "  n: int\n",
        "      Number of rows of the chess board.\n",
        "  m: int\n",
        "      Number of columns of the chessboard.\n",
        "\n",
        "  Returns\n",
        "  -------\n",
        "  numpy.ndarray\n",
        "      The ndarray containing the number of wheat on an nxm chess board.\n",
        "  \"\"\"\n",
        "  import numpy as np\n",
        "  return 2 ** (np.arange(0, n*m, dtype=np.uint64).reshape(n, m))"
      ],
      "metadata": {
        "id": "wOgYqTW_KBHh"
      },
      "execution_count": null,
      "outputs": []
    },
    {
      "cell_type": "code",
      "source": [
        "# Find the number of wheat on the 8x8 square chess board.\n",
        "eight_by_eight_chess_board = chess_board(8,8)\n",
        "print(eight_by_eight_chess_board)"
      ],
      "metadata": {
        "colab": {
          "base_uri": "https://localhost:8080/"
        },
        "id": "YlGeQMRfNe_S",
        "outputId": "c84f5534-c2e8-49b1-a83f-07167146dbdf"
      },
      "execution_count": null,
      "outputs": [
        {
          "output_type": "stream",
          "name": "stdout",
          "text": [
            "[[                  1                   2                   4\n",
            "                    8                  16                  32\n",
            "                   64                 128]\n",
            " [                256                 512                1024\n",
            "                 2048                4096                8192\n",
            "                16384               32768]\n",
            " [              65536              131072              262144\n",
            "               524288             1048576             2097152\n",
            "              4194304             8388608]\n",
            " [           16777216            33554432            67108864\n",
            "            134217728           268435456           536870912\n",
            "           1073741824          2147483648]\n",
            " [         4294967296          8589934592         17179869184\n",
            "          34359738368         68719476736        137438953472\n",
            "         274877906944        549755813888]\n",
            " [      1099511627776       2199023255552       4398046511104\n",
            "        8796093022208      17592186044416      35184372088832\n",
            "       70368744177664     140737488355328]\n",
            " [    281474976710656     562949953421312    1125899906842624\n",
            "     2251799813685248    4503599627370496    9007199254740992\n",
            "    18014398509481984   36028797018963968]\n",
            " [  72057594037927936  144115188075855872  288230376151711744\n",
            "   576460752303423488 1152921504606846976 2305843009213693952\n",
            "  4611686018427387904 9223372036854775808]]\n"
          ]
        }
      ]
    },
    {
      "cell_type": "markdown",
      "source": [
        "---"
      ],
      "metadata": {
        "id": "MUNXC6GSU691"
      }
    },
    {
      "cell_type": "markdown",
      "source": [
        "[Problem 3] Total number of wheat"
      ],
      "metadata": {
        "id": "4hTMYhgsU7pk"
      }
    },
    {
      "cell_type": "code",
      "source": [
        "print(\"The total number of wheat on a chess board of 8 x 8 squares is {}.\".format(eight_by_eight_chess_board.sum()))"
      ],
      "metadata": {
        "colab": {
          "base_uri": "https://localhost:8080/"
        },
        "id": "JQTwMv7xSNOl",
        "outputId": "d6a72ad6-bdbe-433e-fd71-fc46c31d6c1d"
      },
      "execution_count": null,
      "outputs": [
        {
          "output_type": "stream",
          "name": "stdout",
          "text": [
            "The total number of wheat on a chess board of 8 x 8 squares is 18446744073709551615.\n"
          ]
        }
      ]
    },
    {
      "cell_type": "code",
      "source": [
        "columns_average = eight_by_eight_chess_board.mean(axis=0)\n",
        "columns_average"
      ],
      "metadata": {
        "colab": {
          "base_uri": "https://localhost:8080/"
        },
        "id": "gDbIsphrVnny",
        "outputId": "378c2c63-0b18-498b-fa2b-5eb8eaabb61d"
      },
      "execution_count": null,
      "outputs": [
        {
          "output_type": "execute_result",
          "data": {
            "text/plain": [
              "array([9.04252160e+15, 1.80850432e+16, 3.61700864e+16, 7.23401728e+16,\n",
              "       1.44680346e+17, 2.89360691e+17, 5.78721383e+17, 1.15744277e+18])"
            ]
          },
          "metadata": {},
          "execution_count": 89
        }
      ]
    },
    {
      "cell_type": "code",
      "source": [
        "import matplotlib.pyplot as plt\n",
        "%matplotlib inline\n",
        "\n",
        "plt.xlabel(\"column\")\n",
        "plt.ylabel(\"average\")\n",
        "plt.title(\"average of each column\")\n",
        "plt.bar(np.arange(1,9), columns_average)\n",
        "plt.show()"
      ],
      "metadata": {
        "colab": {
          "base_uri": "https://localhost:8080/",
          "height": 472
        },
        "id": "sd-qQGK2VKcl",
        "outputId": "3ef20533-ca37-494b-8fdb-58454760c518"
      },
      "execution_count": null,
      "outputs": [
        {
          "output_type": "display_data",
          "data": {
            "text/plain": [
              "<Figure size 640x480 with 1 Axes>"
            ],
            "image/png": "[encoded data removed]"
          },
          "metadata": {}
        }
      ]
    },
    {
      "cell_type": "markdown",
      "source": [
        "---"
      ],
      "metadata": {
        "id": "aYR17vF6XMJn"
      }
    },
    {
      "cell_type": "markdown",
      "source": [
        "[Problem 4] Heat map of the number of wheat"
      ],
      "metadata": {
        "id": "QfVvg8VaXNVp"
      }
    },
    {
      "cell_type": "code",
      "source": [
        "plt.xlabel(\"column\")\n",
        "plt.ylabel(\"row\")\n",
        "plt.title(\"heatmap\")\n",
        "plt.pcolor(eight_by_eight_chess_board)\n",
        "plt.show()"
      ],
      "metadata": {
        "colab": {
          "base_uri": "https://localhost:8080/",
          "height": 472
        },
        "id": "N90hKk6FXPw1",
        "outputId": "cc136ae9-7401-42e2-ff8e-6769455f413c"
      },
      "execution_count": null,
      "outputs": [
        {
          "output_type": "display_data",
          "data": {
            "text/plain": [
              "<Figure size 640x480 with 1 Axes>"
            ],
            "image/png": "[encoded data removed]"
          },
          "metadata": {}
        }
      ]
    },
    {
      "cell_type": "markdown",
      "source": [
        "---"
      ],
      "metadata": {
        "id": "W0nFN18JX4yz"
      }
    },
    {
      "cell_type": "markdown",
      "source": [
        "[Problem 5] How many times is the second half as long as the first half?"
      ],
      "metadata": {
        "id": "-u1tHI45X5jQ"
      }
    },
    {
      "cell_type": "code",
      "source": [
        "first_half = eight_by_eight_chess_board[0:4,:].sum()\n",
        "second_half = eight_by_eight_chess_board[4:8,:].sum()\n",
        "print(f\"The second half of the chessboard has {second_half/first_half} times more wheat than the first half.\")"
      ],
      "metadata": {
        "colab": {
          "base_uri": "https://localhost:8080/"
        },
        "id": "cPqBp2jiYuwx",
        "outputId": "0dbbe2bb-50e1-4cca-9a6c-371a27a4a8c9"
      },
      "execution_count": null,
      "outputs": [
        {
          "output_type": "stream",
          "name": "stdout",
          "text": [
            "The second half of the chessboard has 4294967296.0 times more wheat than the first half.\n"
          ]
        }
      ]
    },
    {
      "cell_type": "markdown",
      "source": [
        "---"
      ],
      "metadata": {
        "id": "yJLs0yxGbY5C"
      }
    },
    {
      "cell_type": "markdown",
      "source": [
        "[Problem 6] Expansion to n × m mass by another calculation method"
      ],
      "metadata": {
        "id": "0X00FPrdbZvV"
      }
    },
    {
      "cell_type": "code",
      "source": [
        "# np.append\n",
        "def np_append_chess_board(n, m):\n",
        "  \"\"\"A function that returns a ndarray containing the number of wheat on an n*m chess board using np.append().\n",
        "\n",
        "  Parameters\n",
        "  -----------\n",
        "  n: int\n",
        "      Number of rows of the chess board.\n",
        "  m: int\n",
        "      Number of columns of the chessboard.\n",
        "\n",
        "  Returns\n",
        "  -------\n",
        "  numpy.ndarray\n",
        "      The ndarray containing the number of wheat on an nxm chess board.\n",
        "  \"\"\"\n",
        "  import numpy as np\n",
        "  board_ndarray = np.array([1], dtype=np.uint64)\n",
        "  for _ in range(1, n * m):\n",
        "    board_ndarray = np.append(board_ndarray, 2 * board_ndarray[-1])\n",
        "  return board_ndarray.reshape((n, m)).astype(np.uint64)"
      ],
      "metadata": {
        "id": "C-l3ChdgbcCG"
      },
      "execution_count": null,
      "outputs": []
    },
    {
      "cell_type": "code",
      "source": [
        "# broadcasting\n",
        "def broadcast_chess_board(n, m):\n",
        "  \"\"\"A function that returns a ndarray containing the number of wheat on an n*m chess board using broadcast.\n",
        "\n",
        "  Parameters\n",
        "  -----------\n",
        "  n: int\n",
        "      Number of rows of the chess board.\n",
        "  m: int\n",
        "      Number of columns of the chessboard.\n",
        "\n",
        "  Returns\n",
        "  -------\n",
        "  numpy.ndarray\n",
        "      The ndarray containing the number of wheat on an nxm chess board.\n",
        "  \"\"\"\n",
        "  import numpy as np\n",
        "  return 2 ** np.arange(n * m).astype(np.uint64).reshape((n, m))"
      ],
      "metadata": {
        "id": "4HtoSGtGgIhm"
      },
      "execution_count": null,
      "outputs": []
    },
    {
      "cell_type": "markdown",
      "source": [
        "---"
      ],
      "metadata": {
        "id": "lLi3BbLHhEh7"
      }
    },
    {
      "cell_type": "markdown",
      "source": [
        "[Problem 7] Comparing calculation times"
      ],
      "metadata": {
        "id": "R92kzBu6hFQx"
      }
    },
    {
      "cell_type": "code",
      "source": [
        "# first method\n",
        "%timeit -n 1000 chess_board(8,8)"
      ],
      "metadata": {
        "colab": {
          "base_uri": "https://localhost:8080/"
        },
        "id": "CACfTcKqhHzK",
        "outputId": "1049df44-1de4-45df-f6b8-6a4d627c9782"
      },
      "execution_count": null,
      "outputs": [
        {
          "output_type": "stream",
          "name": "stdout",
          "text": [
            "4.56 µs ± 1.79 µs per loop (mean ± std. dev. of 7 runs, 1000 loops each)\n"
          ]
        }
      ]
    },
    {
      "cell_type": "code",
      "source": [
        "# second method\n",
        "%timeit -n 1000 np_append_chess_board(8,8)"
      ],
      "metadata": {
        "colab": {
          "base_uri": "https://localhost:8080/"
        },
        "id": "0dNlIXhejLws",
        "outputId": "c4bc2f63-e3e0-44fe-82b6-2e5abeb2deb5"
      },
      "execution_count": null,
      "outputs": [
        {
          "output_type": "stream",
          "name": "stdout",
          "text": [
            "256 µs ± 7.26 µs per loop (mean ± std. dev. of 7 runs, 1000 loops each)\n"
          ]
        }
      ]
    },
    {
      "cell_type": "code",
      "source": [
        "# third method\n",
        "%timeit -n 1000 broadcast_chess_board(8,8)"
      ],
      "metadata": {
        "colab": {
          "base_uri": "https://localhost:8080/"
        },
        "id": "T-fNjG_njNy5",
        "outputId": "22b5be4e-5f61-4e16-b0a2-c09c72f1ccd6"
      },
      "execution_count": null,
      "outputs": [
        {
          "output_type": "stream",
          "name": "stdout",
          "text": [
            "5.1 µs ± 1.2 µs per loop (mean ± std. dev. of 7 runs, 1000 loops each)\n"
          ]
        }
      ]
    },
    {
      "cell_type": "markdown",
      "source": [
        "*In summary, the first function is the most efficient, followed by the function made with the broadcasting. The one's made with np.append() appears to be the least efficient.*"
      ],
      "metadata": {
        "id": "nnTaGNQNkPL0"
      }
    }
  ]
}