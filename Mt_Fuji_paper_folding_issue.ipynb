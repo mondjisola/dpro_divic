{
  "nbformat": 4,
  "nbformat_minor": 0,
  "metadata": {
    "colab": {
      "provenance": [],
      "authorship_tag": "ABX9TyO16gOOEYrQoQFZFbRTgVri",
      "include_colab_link": true
    },
    "kernelspec": {
      "name": "python3",
      "display_name": "Python 3"
    },
    "language_info": {
      "name": "python"
    }
  },
  "cells": [
    {
      "cell_type": "markdown",
      "metadata": {
        "id": "view-in-github",
        "colab_type": "text"
      },
      "source": [
        "<a href=\"https://colab.research.google.com/github/mondjisola/dpro_divic/blob/master/Mt_Fuji_paper_folding_issue.ipynb\" target=\"_parent\"><img src=\"https://colab.research.google.com/assets/colab-badge.svg\" alt=\"Open In Colab\"/></a>"
      ]
    },
    {
      "cell_type": "markdown",
      "source": [
        "[Problem 1] How many times to fold paper to exceed the height of Mt.Fuji?"
      ],
      "metadata": {
        "id": "2gG5tteIftiw"
      }
    },
    {
      "cell_type": "code",
      "source": [
        "BASE_THICKNESS = 0.00008\n",
        "mt_fuji_height = 3776\n",
        "folded_thickness = BASE_THICKNESS\n",
        "fold_times_number = 0\n",
        "\n",
        "while folded_thickness < mt_fuji_height:\n",
        "  folded_thickness *= 2\n",
        "  fold_times_number += 1\n",
        "\n",
        "print(\"To exceed the height of Mt. Fuji, the paper required to be folded {} times.\".format(fold_times_number))"
      ],
      "metadata": {
        "colab": {
          "base_uri": "https://localhost:8080/"
        },
        "id": "aJwNGO3yfr4z",
        "outputId": "1524cd53-1d17-459f-8fc5-e432a6832704"
      },
      "execution_count": null,
      "outputs": [
        {
          "output_type": "stream",
          "name": "stdout",
          "text": [
            "To exceed the height of Mt. Fuji, the paper required to be folded 26 times.\n"
          ]
        }
      ]
    },
    {
      "cell_type": "markdown",
      "source": [
        "---"
      ],
      "metadata": {
        "id": "Ikc6JOldiVZz"
      }
    },
    {
      "cell_type": "markdown",
      "source": [
        "[Problem 2] Function corresponding to arbitrary thickness"
      ],
      "metadata": {
        "id": "LPkGIEfdiSco"
      }
    },
    {
      "cell_type": "code",
      "source": [
        "def minimum_fold_times_number(base_thickness, target_thickness):\n",
        "  \"\"\"A function that, given a height input, would output the minimum number of paper folds required to exceed it.\n",
        "\n",
        "  Args\n",
        "  -----------\n",
        "  base_thickness: float\n",
        "    The base thickness of the paper before start folding.\n",
        "  target_thickness: float\n",
        "    The thickness of the target to exceed.\n",
        "\n",
        "  Returns\n",
        "  -------\n",
        "  minimum_fold_times:\n",
        "    The minimum number of paper folds required to exceed the target thickness.\n",
        "  \"\"\"\n",
        "\n",
        "  minimum_fold_times  = 0\n",
        "  while base_thickness < target_thickness:\n",
        "    base_thickness *= 2\n",
        "    minimum_fold_times += 1\n",
        "\n",
        "  return minimum_fold_times"
      ],
      "metadata": {
        "id": "ghPjOt_HiXEo"
      },
      "execution_count": null,
      "outputs": []
    },
    {
      "cell_type": "code",
      "source": [
        "# Use the function to calculate how many times needed to fold a piece of paper to reach the nearest non-sun star.\n",
        "proxima_centauri_distance = 4.0175e16\n",
        "print(\"To reach Proxima Centauri, the paper required to be folded {} times.\".format(minimum_fold_times_number(BASE_THICKNESS, proxima_centauri_distance)))\n"
      ],
      "metadata": {
        "colab": {
          "base_uri": "https://localhost:8080/"
        },
        "id": "smAfEsH7lVH1",
        "outputId": "e3e31313-ff32-4a88-f17b-9636fe248036"
      },
      "execution_count": null,
      "outputs": [
        {
          "output_type": "stream",
          "name": "stdout",
          "text": [
            "To reach Proxima Centauri, the paper required to be folded 69 times.\n"
          ]
        }
      ]
    },
    {
      "cell_type": "markdown",
      "source": [
        "---"
      ],
      "metadata": {
        "id": "-wAeSeLtmeJY"
      }
    },
    {
      "cell_type": "markdown",
      "source": [
        "[Problem 3] Required paper length"
      ],
      "metadata": {
        "id": "3xYSaU1KmfU0"
      }
    },
    {
      "cell_type": "code",
      "source": [
        "import math\n",
        "\n",
        "def required_paper_length(base_thickness, thickness):\n",
        "  \"\"\"A function that, given a thickness, would output the length of paper required to fold the paper.\n",
        "\n",
        "  Parameters\n",
        "  -----------\n",
        "  thickness: float\n",
        "    The thickness of the paper.\n",
        "\n",
        "  Returns\n",
        "  -------\n",
        "  minimum_length_of_paper:\n",
        "    The minimum length of paper required to fold the paper.\n",
        "  \"\"\"\n",
        "\n",
        "  # Calculate how many times the paper needs to be folded to reach the given thickness.\n",
        "  fold_times = minimum_fold_times_number(base_thickness, thickness)\n",
        "\n",
        "  minimum_length_of_paper = (math.pi / 6) * base_thickness * ((2 ** fold_times) + 4) * ((2 ** fold_times) - 1)\n",
        "\n",
        "  return minimum_length_of_paper;"
      ],
      "metadata": {
        "id": "xm9Ozohe-wce"
      },
      "execution_count": null,
      "outputs": []
    },
    {
      "cell_type": "code",
      "source": [
        "# Find out the length of paper needed to reach the Moon, Mt. Fuji, and the stars closest to the Sun.\n",
        "\n",
        "moon_distance = 384400\n",
        "mt_fuji_height = 3776\n",
        "proxima_centauri_distance = 4.0175e16\n",
        "\n",
        "print(\"To reach the Moon, the paper required to be folded {} times and the length of paper required is {} m.\".format(minimum_fold_times_number(BASE_THICKNESS, moon_distance), required_paper_length(BASE_THICKNESS, moon_distance)))\n",
        "print(\"To exceed the height of Mt. Fuji, the paper required to be folded {} times and the length of paper required is {} m.\".format(minimum_fold_times_number(BASE_THICKNESS, mt_fuji_height), required_paper_length(BASE_THICKNESS, mt_fuji_height)))\n",
        "print(\"To reach Proxima Centauri, the paper required to be folded {} times and the length of paper required is {} m.\".format(minimum_fold_times_number(BASE_THICKNESS, proxima_centauri_distance), required_paper_length(BASE_THICKNESS, proxima_centauri_distance)))\n"
      ],
      "metadata": {
        "colab": {
          "base_uri": "https://localhost:8080/"
        },
        "id": "xfTakfFGAM6B",
        "outputId": "7c462e97-9f62-4130-accc-d11305027e34"
      },
      "execution_count": null,
      "outputs": [
        {
          "output_type": "stream",
          "name": "stdout",
          "text": [
            "To reach the Moon, the paper required to be folded 33 times and the length of paper required is 3090781636525682.0 m.\n",
            "To exceed the height of Mt. Fuji, the paper required to be folded 26 times and the length of paper required is 188646348487.24014 m.\n",
            "To reach Proxima Centauri, the paper required to be folded 69 times and the length of paper required is 1.4595803601100346e+37 m.\n"
          ]
        }
      ]
    },
    {
      "cell_type": "markdown",
      "source": [
        "---"
      ],
      "metadata": {
        "id": "1Dj7BFqUA0uI"
      }
    }
  ]
}