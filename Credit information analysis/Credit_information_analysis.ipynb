{
  "nbformat": 4,
  "nbformat_minor": 0,
  "metadata": {
    "colab": {
      "provenance": [],
      "authorship_tag": "ABX9TyPZw+Bboz/NRl5b/RYx/rg6",
      "include_colab_link": true
    },
    "kernelspec": {
      "name": "python3",
      "display_name": "Python 3"
    },
    "language_info": {
      "name": "python"
    }
  },
  "cells": [
    {
      "cell_type": "markdown",
      "metadata": {
        "id": "view-in-github",
        "colab_type": "text"
      },
      "source": [
        "<a href=\"https://colab.research.google.com/github/S-Oswald-B-M/github_assignment/blob/master/Credit%20information%20analysis/Credit_information_analysis.ipynb\" target=\"_parent\"><img src=\"https://colab.research.google.com/assets/colab-badge.svg\" alt=\"Open In Colab\"/></a>"
      ]
    },
    {
      "cell_type": "markdown",
      "source": [
        "[Problem 1] Understanding the content of the competition"
      ],
      "metadata": {
        "id": "Fgki0nd1EKwP"
      }
    },
    {
      "cell_type": "markdown",
      "source": [
        "\n",
        "\n",
        "1.   Home Credit is an international consumer finance provider which strives to broaden financial inclusion for the unbanked population by providing a positive and safe borrowing experience.\n",
        "2.   The expectation of this competition is to predict their clients' repayment abilities by using a variety of alternative data--including telco and transactional information.\n",
        "3.   By predicting this, they ensure that clients capable of repayment are not rejected and that loans are given with a principal, maturity, and repayment calendar that will empower their clients to be successful\n",
        "\n"
      ],
      "metadata": {
        "id": "I1q4JT7yQhpf"
      }
    },
    {
      "cell_type": "code",
      "source": [],
      "metadata": {
        "id": "nMeaa4sIUy6F"
      },
      "execution_count": null,
      "outputs": []
    }
  ]
}