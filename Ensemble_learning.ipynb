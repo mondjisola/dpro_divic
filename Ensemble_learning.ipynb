{
  "nbformat": 4,
  "nbformat_minor": 0,
  "metadata": {
    "colab": {
      "provenance": [],
      "authorship_tag": "ABX9TyN2hS3ma4aJ1YjUOJwr4Cvx",
      "include_colab_link": true
    },
    "kernelspec": {
      "name": "python3",
      "display_name": "Python 3"
    },
    "language_info": {
      "name": "python"
    }
  },
  "cells": [
    {
      "cell_type": "markdown",
      "metadata": {
        "id": "view-in-github",
        "colab_type": "text"
      },
      "source": [
        "<a href=\"https://colab.research.google.com/github/mondjisola/dpro_divic/blob/master/Ensemble_learning.ipynb\" target=\"_parent\"><img src=\"https://colab.research.google.com/assets/colab-badge.svg\" alt=\"Open In Colab\"/></a>"
      ]
    },
    {
      "cell_type": "markdown",
      "source": [
        "## Dataset loading"
      ],
      "metadata": {
        "id": "B_gc_5hRdOph"
      }
    },
    {
      "cell_type": "code",
      "source": [
        "import matplotlib.pyplot as plt\n",
        "%matplotlib inline\n",
        "import numpy as np\n",
        "import pandas as pd\n",
        "import seaborn as sns\n",
        "from sklearn.model_selection import train_test_split\n",
        "from sklearn.preprocessing import StandardScaler\n",
        "from sklearn.linear_model import LinearRegression\n",
        "from sklearn.svm import SVR\n",
        "from sklearn.tree import DecisionTreeRegressor\n",
        "from sklearn.metrics import mean_squared_error\n",
        "import random"
      ],
      "metadata": {
        "id": "iUIWZpE4eczX"
      },
      "execution_count": null,
      "outputs": []
    },
    {
      "cell_type": "code",
      "source": [
        "raw_data_url = \"https://raw.githubusercontent.com/ankita1112/House-Prices-Advanced-Regression/refs/heads/master/train.csv\"\n",
        "df = pd.read_csv(raw_data_url, usecols=[\"GrLivArea\", \"YearBuilt\", \"SalePrice\"])\n",
        "df.head()"
      ],
      "metadata": {
        "colab": {
          "base_uri": "https://localhost:8080/",
          "height": 206
        },
        "id": "1n0aGdHzxH5Z",
        "outputId": "396f3a45-6872-4311-ea5d-785384309fef"
      },
      "execution_count": null,
      "outputs": [
        {
          "output_type": "execute_result",
          "data": {
            "text/plain": [
              "   YearBuilt  GrLivArea  SalePrice\n",
              "0       2003       1710     208500\n",
              "1       1976       1262     181500\n",
              "2       2001       1786     223500\n",
              "3       1915       1717     140000\n",
              "4       2000       2198     250000"
            ],
            "text/html": [
              "\n",
              "  <div id=\"df-ec2972b3-c02a-40cb-ae32-956a5ebbb4de\" class=\"colab-df-container\">\n",
              "    <div>\n",
              "<style scoped>\n",
              "    .dataframe tbody tr th:only-of-type {\n",
              "        vertical-align: middle;\n",
              "    }\n",
              "\n",
              "    .dataframe tbody tr th {\n",
              "        vertical-align: top;\n",
              "    }\n",
              "\n",
              "    .dataframe thead th {\n",
              "        text-align: right;\n",
              "    }\n",
              "</style>\n",
              "<table border=\"1\" class=\"dataframe\">\n",
              "  <thead>\n",
              "    <tr style=\"text-align: right;\">\n",
              "      <th></th>\n",
              "      <th>YearBuilt</th>\n",
              "      <th>GrLivArea</th>\n",
              "      <th>SalePrice</th>\n",
              "    </tr>\n",
              "  </thead>\n",
              "  <tbody>\n",
              "    <tr>\n",
              "      <th>0</th>\n",
              "      <td>2003</td>\n",
              "      <td>1710</td>\n",
              "      <td>208500</td>\n",
              "    </tr>\n",
              "    <tr>\n",
              "      <th>1</th>\n",
              "      <td>1976</td>\n",
              "      <td>1262</td>\n",
              "      <td>181500</td>\n",
              "    </tr>\n",
              "    <tr>\n",
              "      <th>2</th>\n",
              "      <td>2001</td>\n",
              "      <td>1786</td>\n",
              "      <td>223500</td>\n",
              "    </tr>\n",
              "    <tr>\n",
              "      <th>3</th>\n",
              "      <td>1915</td>\n",
              "      <td>1717</td>\n",
              "      <td>140000</td>\n",
              "    </tr>\n",
              "    <tr>\n",
              "      <th>4</th>\n",
              "      <td>2000</td>\n",
              "      <td>2198</td>\n",
              "      <td>250000</td>\n",
              "    </tr>\n",
              "  </tbody>\n",
              "</table>\n",
              "</div>\n",
              "    <div class=\"colab-df-buttons\">\n",
              "\n",
              "  <div class=\"colab-df-container\">\n",
              "    <button class=\"colab-df-convert\" onclick=\"convertToInteractive('df-ec2972b3-c02a-40cb-ae32-956a5ebbb4de')\"\n",
              "            title=\"Convert this dataframe to an interactive table.\"\n",
              "            style=\"display:none;\">\n",
              "\n",
              "  <svg xmlns=\"http://www.w3.org/2000/svg\" height=\"24px\" viewBox=\"0 -960 960 960\">\n",
              "    <path d=\"M120-120v-720h720v720H120Zm60-500h600v-160H180v160Zm220 220h160v-160H400v160Zm0 220h160v-160H400v160ZM180-400h160v-160H180v160Zm440 0h160v-160H620v160ZM180-180h160v-160H180v160Zm440 0h160v-160H620v160Z\"/>\n",
              "  </svg>\n",
              "    </button>\n",
              "\n",
              "  <style>\n",
              "    .colab-df-container {\n",
              "      display:flex;\n",
              "      gap: 12px;\n",
              "    }\n",
              "\n",
              "    .colab-df-convert {\n",
              "      background-color: #E8F0FE;\n",
              "      border: none;\n",
              "      border-radius: 50%;\n",
              "      cursor: pointer;\n",
              "      display: none;\n",
              "      fill: #1967D2;\n",
              "      height: 32px;\n",
              "      padding: 0 0 0 0;\n",
              "      width: 32px;\n",
              "    }\n",
              "\n",
              "    .colab-df-convert:hover {\n",
              "      background-color: #E2EBFA;\n",
              "      box-shadow: 0px 1px 2px rgba(60, 64, 67, 0.3), 0px 1px 3px 1px rgba(60, 64, 67, 0.15);\n",
              "      fill: #174EA6;\n",
              "    }\n",
              "\n",
              "    .colab-df-buttons div {\n",
              "      margin-bottom: 4px;\n",
              "    }\n",
              "\n",
              "    [theme=dark] .colab-df-convert {\n",
              "      background-color: #3B4455;\n",
              "      fill: #D2E3FC;\n",
              "    }\n",
              "\n",
              "    [theme=dark] .colab-df-convert:hover {\n",
              "      background-color: #434B5C;\n",
              "      box-shadow: 0px 1px 3px 1px rgba(0, 0, 0, 0.15);\n",
              "      filter: drop-shadow(0px 1px 2px rgba(0, 0, 0, 0.3));\n",
              "      fill: #FFFFFF;\n",
              "    }\n",
              "  </style>\n",
              "\n",
              "    <script>\n",
              "      const buttonEl =\n",
              "        document.querySelector('#df-ec2972b3-c02a-40cb-ae32-956a5ebbb4de button.colab-df-convert');\n",
              "      buttonEl.style.display =\n",
              "        google.colab.kernel.accessAllowed ? 'block' : 'none';\n",
              "\n",
              "      async function convertToInteractive(key) {\n",
              "        const element = document.querySelector('#df-ec2972b3-c02a-40cb-ae32-956a5ebbb4de');\n",
              "        const dataTable =\n",
              "          await google.colab.kernel.invokeFunction('convertToInteractive',\n",
              "                                                    [key], {});\n",
              "        if (!dataTable) return;\n",
              "\n",
              "        const docLinkHtml = 'Like what you see? Visit the ' +\n",
              "          '<a target=\"_blank\" href=https://colab.research.google.com/notebooks/data_table.ipynb>data table notebook</a>'\n",
              "          + ' to learn more about interactive tables.';\n",
              "        element.innerHTML = '';\n",
              "        dataTable['output_type'] = 'display_data';\n",
              "        await google.colab.output.renderOutput(dataTable, element);\n",
              "        const docLink = document.createElement('div');\n",
              "        docLink.innerHTML = docLinkHtml;\n",
              "        element.appendChild(docLink);\n",
              "      }\n",
              "    </script>\n",
              "  </div>\n",
              "\n",
              "\n",
              "<div id=\"df-cf300c65-6e34-45d9-96a4-c4321f3ba523\">\n",
              "  <button class=\"colab-df-quickchart\" onclick=\"quickchart('df-cf300c65-6e34-45d9-96a4-c4321f3ba523')\"\n",
              "            title=\"Suggest charts\"\n",
              "            style=\"display:none;\">\n",
              "\n",
              "<svg xmlns=\"http://www.w3.org/2000/svg\" height=\"24px\"viewBox=\"0 0 24 24\"\n",
              "     width=\"24px\">\n",
              "    <g>\n",
              "        <path d=\"M19 3H5c-1.1 0-2 .9-2 2v14c0 1.1.9 2 2 2h14c1.1 0 2-.9 2-2V5c0-1.1-.9-2-2-2zM9 17H7v-7h2v7zm4 0h-2V7h2v10zm4 0h-2v-4h2v4z\"/>\n",
              "    </g>\n",
              "</svg>\n",
              "  </button>\n",
              "\n",
              "<style>\n",
              "  .colab-df-quickchart {\n",
              "      --bg-color: #E8F0FE;\n",
              "      --fill-color: #1967D2;\n",
              "      --hover-bg-color: #E2EBFA;\n",
              "      --hover-fill-color: #174EA6;\n",
              "      --disabled-fill-color: #AAA;\n",
              "      --disabled-bg-color: #DDD;\n",
              "  }\n",
              "\n",
              "  [theme=dark] .colab-df-quickchart {\n",
              "      --bg-color: #3B4455;\n",
              "      --fill-color: #D2E3FC;\n",
              "      --hover-bg-color: #434B5C;\n",
              "      --hover-fill-color: #FFFFFF;\n",
              "      --disabled-bg-color: #3B4455;\n",
              "      --disabled-fill-color: #666;\n",
              "  }\n",
              "\n",
              "  .colab-df-quickchart {\n",
              "    background-color: var(--bg-color);\n",
              "    border: none;\n",
              "    border-radius: 50%;\n",
              "    cursor: pointer;\n",
              "    display: none;\n",
              "    fill: var(--fill-color);\n",
              "    height: 32px;\n",
              "    padding: 0;\n",
              "    width: 32px;\n",
              "  }\n",
              "\n",
              "  .colab-df-quickchart:hover {\n",
              "    background-color: var(--hover-bg-color);\n",
              "    box-shadow: 0 1px 2px rgba(60, 64, 67, 0.3), 0 1px 3px 1px rgba(60, 64, 67, 0.15);\n",
              "    fill: var(--button-hover-fill-color);\n",
              "  }\n",
              "\n",
              "  .colab-df-quickchart-complete:disabled,\n",
              "  .colab-df-quickchart-complete:disabled:hover {\n",
              "    background-color: var(--disabled-bg-color);\n",
              "    fill: var(--disabled-fill-color);\n",
              "    box-shadow: none;\n",
              "  }\n",
              "\n",
              "  .colab-df-spinner {\n",
              "    border: 2px solid var(--fill-color);\n",
              "    border-color: transparent;\n",
              "    border-bottom-color: var(--fill-color);\n",
              "    animation:\n",
              "      spin 1s steps(1) infinite;\n",
              "  }\n",
              "\n",
              "  @keyframes spin {\n",
              "    0% {\n",
              "      border-color: transparent;\n",
              "      border-bottom-color: var(--fill-color);\n",
              "      border-left-color: var(--fill-color);\n",
              "    }\n",
              "    20% {\n",
              "      border-color: transparent;\n",
              "      border-left-color: var(--fill-color);\n",
              "      border-top-color: var(--fill-color);\n",
              "    }\n",
              "    30% {\n",
              "      border-color: transparent;\n",
              "      border-left-color: var(--fill-color);\n",
              "      border-top-color: var(--fill-color);\n",
              "      border-right-color: var(--fill-color);\n",
              "    }\n",
              "    40% {\n",
              "      border-color: transparent;\n",
              "      border-right-color: var(--fill-color);\n",
              "      border-top-color: var(--fill-color);\n",
              "    }\n",
              "    60% {\n",
              "      border-color: transparent;\n",
              "      border-right-color: var(--fill-color);\n",
              "    }\n",
              "    80% {\n",
              "      border-color: transparent;\n",
              "      border-right-color: var(--fill-color);\n",
              "      border-bottom-color: var(--fill-color);\n",
              "    }\n",
              "    90% {\n",
              "      border-color: transparent;\n",
              "      border-bottom-color: var(--fill-color);\n",
              "    }\n",
              "  }\n",
              "</style>\n",
              "\n",
              "  <script>\n",
              "    async function quickchart(key) {\n",
              "      const quickchartButtonEl =\n",
              "        document.querySelector('#' + key + ' button');\n",
              "      quickchartButtonEl.disabled = true;  // To prevent multiple clicks.\n",
              "      quickchartButtonEl.classList.add('colab-df-spinner');\n",
              "      try {\n",
              "        const charts = await google.colab.kernel.invokeFunction(\n",
              "            'suggestCharts', [key], {});\n",
              "      } catch (error) {\n",
              "        console.error('Error during call to suggestCharts:', error);\n",
              "      }\n",
              "      quickchartButtonEl.classList.remove('colab-df-spinner');\n",
              "      quickchartButtonEl.classList.add('colab-df-quickchart-complete');\n",
              "    }\n",
              "    (() => {\n",
              "      let quickchartButtonEl =\n",
              "        document.querySelector('#df-cf300c65-6e34-45d9-96a4-c4321f3ba523 button');\n",
              "      quickchartButtonEl.style.display =\n",
              "        google.colab.kernel.accessAllowed ? 'block' : 'none';\n",
              "    })();\n",
              "  </script>\n",
              "</div>\n",
              "\n",
              "    </div>\n",
              "  </div>\n"
            ],
            "application/vnd.google.colaboratory.intrinsic+json": {
              "type": "dataframe",
              "variable_name": "df",
              "summary": "{\n  \"name\": \"df\",\n  \"rows\": 1460,\n  \"fields\": [\n    {\n      \"column\": \"YearBuilt\",\n      \"properties\": {\n        \"dtype\": \"number\",\n        \"std\": 30,\n        \"min\": 1872,\n        \"max\": 2010,\n        \"num_unique_values\": 112,\n        \"samples\": [\n          1999,\n          1936,\n          2000\n        ],\n        \"semantic_type\": \"\",\n        \"description\": \"\"\n      }\n    },\n    {\n      \"column\": \"GrLivArea\",\n      \"properties\": {\n        \"dtype\": \"number\",\n        \"std\": 525,\n        \"min\": 334,\n        \"max\": 5642,\n        \"num_unique_values\": 861,\n        \"samples\": [\n          1459,\n          1775,\n          840\n        ],\n        \"semantic_type\": \"\",\n        \"description\": \"\"\n      }\n    },\n    {\n      \"column\": \"SalePrice\",\n      \"properties\": {\n        \"dtype\": \"number\",\n        \"std\": 79442,\n        \"min\": 34900,\n        \"max\": 755000,\n        \"num_unique_values\": 663,\n        \"samples\": [\n          91300,\n          174500,\n          150900\n        ],\n        \"semantic_type\": \"\",\n        \"description\": \"\"\n      }\n    }\n  ]\n}"
            }
          },
          "metadata": {},
          "execution_count": 8
        }
      ]
    },
    {
      "cell_type": "code",
      "source": [
        "# Logarithmic transformation\n",
        "df = np.log(df)\n",
        "\n",
        "# Split\n",
        "X = df[[\"YearBuilt\", \"GrLivArea\"]]\n",
        "y = df[[\"SalePrice\"]]\n",
        "# ndarray conversion\n",
        "X_array = X.values\n",
        "y_array = y.values\n",
        "# split, shuffle True\n",
        "X_train, X_valid, y_train, y_valid = train_test_split(\n",
        "     X_array, y_array, test_size=0.2, random_state=0, shuffle=True)\n",
        "\n",
        "# Standardize each feature\n",
        "# Separate X and y and instantiate\n",
        "scaler_X = StandardScaler()\n",
        "scaler_y = StandardScaler()\n",
        "X_train = scaler_X.fit_transform(X_train)\n",
        "X_valid = scaler_X.transform(X_valid)\n",
        "y_train = scaler_y.fit_transform(y_train).ravel()\n",
        "y_valid = scaler_y.transform(y_valid).ravel()"
      ],
      "metadata": {
        "id": "4btkdA28xaSR"
      },
      "execution_count": null,
      "outputs": []
    },
    {
      "cell_type": "markdown",
      "source": [
        "## Blending"
      ],
      "metadata": {
        "id": "WZ4OM844fV6q"
      }
    },
    {
      "cell_type": "code",
      "source": [
        "# LinearRegression\n",
        "reg_b = LinearRegression().fit(X_train, y_train)\n",
        "pred_reg_b = reg_b.predict(X_valid)\n",
        "print(\"MSE : LinearRegression\")\n",
        "print('{:.1e}'.format(mean_squared_error(y_valid, pred_reg_b)))"
      ],
      "metadata": {
        "colab": {
          "base_uri": "https://localhost:8080/"
        },
        "id": "aBZCv-doxpdr",
        "outputId": "2358810f-3f79-4b79-a9b3-948a19d1ffb5"
      },
      "execution_count": null,
      "outputs": [
        {
          "output_type": "stream",
          "name": "stdout",
          "text": [
            "MSE : LinearRegression\n",
            "2.8e-01\n"
          ]
        }
      ]
    },
    {
      "cell_type": "code",
      "source": [
        "# SVR\n",
        "svr_b = SVR().fit(X_train, y_train)\n",
        "pred_svr_b = svr_b.predict(X_valid)\n",
        "print(\"MSE : SVR\")\n",
        "print('{:.1e}'.format(mean_squared_error(y_valid, pred_svr_b)))"
      ],
      "metadata": {
        "colab": {
          "base_uri": "https://localhost:8080/"
        },
        "id": "WwLTQiGHx9qb",
        "outputId": "0f403deb-8125-4adb-d2c2-97e33d1d4e0b"
      },
      "execution_count": null,
      "outputs": [
        {
          "output_type": "stream",
          "name": "stdout",
          "text": [
            "MSE : SVR\n",
            "2.3e-01\n"
          ]
        }
      ]
    },
    {
      "cell_type": "code",
      "source": [
        "# DecisionTreeRegressor\n",
        "dt_b = DecisionTreeRegressor().fit(X_train, y_train)\n",
        "pred_dt_b = dt_b.predict(X_valid)\n",
        "print(\"MSE : DecisionTreeRegressor\")\n",
        "print('{:.1e}'.format(mean_squared_error(y_valid, pred_dt_b)))"
      ],
      "metadata": {
        "colab": {
          "base_uri": "https://localhost:8080/"
        },
        "id": "I5npWQMVyGVk",
        "outputId": "269deccf-befb-4ce6-9d1e-5dd4d2c07de8"
      },
      "execution_count": null,
      "outputs": [
        {
          "output_type": "stream",
          "name": "stdout",
          "text": [
            "MSE : DecisionTreeRegressor\n",
            "4.6e-01\n"
          ]
        }
      ]
    },
    {
      "cell_type": "code",
      "source": [
        "# blending (average)\n",
        "\n",
        "# LinearRegression + SVR\n",
        "pred_reg_svr = (pred_reg_b + pred_svr_b)/2\n",
        "# LinearRegression + DecisionTreeRegressor\n",
        "pred_reg_dt = (pred_reg_b + pred_dt_b)/2\n",
        "# SVR + DecisionTreeRegressor\n",
        "pred_svr_dt = (pred_svr_b + pred_dt_b)/2\n",
        "\n",
        "print(\"MSE\")\n",
        "print(\"LinearRegression + SVR : \")\n",
        "print('{:.1e}\\n'.format(mean_squared_error(y_valid, pred_reg_svr)))\n",
        "print(\"LinearRegression + DecisionTreeRegressor : \")\n",
        "print('{:.1e}\\n'.format(mean_squared_error(y_valid, pred_reg_dt)))\n",
        "print(\"SVR + DecisionTreeRegressor : \")\n",
        "print('{:.1e}'.format(mean_squared_error(y_valid, pred_svr_dt)))"
      ],
      "metadata": {
        "colab": {
          "base_uri": "https://localhost:8080/"
        },
        "id": "DKMjwqUoyPAl",
        "outputId": "7883d526-0ced-42e7-8f16-f43dfaaf52c7"
      },
      "execution_count": null,
      "outputs": [
        {
          "output_type": "stream",
          "name": "stdout",
          "text": [
            "MSE\n",
            "LinearRegression + SVR : \n",
            "2.5e-01\n",
            "\n",
            "LinearRegression + DecisionTreeRegressor : \n",
            "3.0e-01\n",
            "\n",
            "SVR + DecisionTreeRegressor : \n",
            "2.7e-01\n"
          ]
        }
      ]
    },
    {
      "cell_type": "markdown",
      "source": [
        "## Bagging"
      ],
      "metadata": {
        "id": "OwsWGpiezuCt"
      }
    },
    {
      "cell_type": "code",
      "source": [
        "X_train.shape[0]"
      ],
      "metadata": {
        "colab": {
          "base_uri": "https://localhost:8080/"
        },
        "id": "BrmC7bgV2P3E",
        "outputId": "41a4c526-6a5d-4985-98b4-57874837a996"
      },
      "execution_count": null,
      "outputs": [
        {
          "output_type": "execute_result",
          "data": {
            "text/plain": [
              "1168"
            ]
          },
          "metadata": {},
          "execution_count": 14
        }
      ]
    },
    {
      "cell_type": "code",
      "source": [
        "# Random sampling with duplicates from the sample index 500\n",
        "index_list = [i for i in range(X_train.shape[0])]\n",
        "\n",
        "# Initialize predictor\n",
        "pred = 0\n",
        "# repeat 10 times\n",
        "for n in range(10):\n",
        "     index = random.choices(index_list, k=500)\n",
        "     # DecisionTreeRegressor\n",
        "     dt = DecisionTreeRegressor().fit(X_train[index], y_train[index])\n",
        "     pred_dt = dt.predict(X_valid)\n",
        "     # total\n",
        "     pred += pred_dt\n",
        "\n",
        "# output the average\n",
        "print(\"MSE : DecisionTreeRegressor / bagging\")\n",
        "print('{:.1e}'.format(mean_squared_error(y_valid, pred/10)))"
      ],
      "metadata": {
        "colab": {
          "base_uri": "https://localhost:8080/"
        },
        "id": "VNtL1F8_2S1C",
        "outputId": "22617317-bb9a-472a-ce42-f6216c194829"
      },
      "execution_count": null,
      "outputs": [
        {
          "output_type": "stream",
          "name": "stdout",
          "text": [
            "MSE : DecisionTreeRegressor / bagging\n",
            "2.5e-01\n"
          ]
        }
      ]
    },
    {
      "cell_type": "markdown",
      "source": [
        "We notice that bagging DecisionTreeRegressor model (`MSE = 2.5e-01`) is more accurate than single DecisionTreeRegressor `MSE = 4.6e-01`."
      ],
      "metadata": {
        "id": "JmyLvPCx4pog"
      }
    },
    {
      "cell_type": "markdown",
      "source": [
        "## Stacking"
      ],
      "metadata": {
        "id": "-K23XOTV2UXh"
      }
    },
    {
      "cell_type": "code",
      "source": [
        "# Cross-validation learning\n",
        "# Scratch every K-fold\n",
        "\n",
        "# Listing the samples index for easy k-folding\n",
        "index_list = [i for i in range(X_train.shape[0])]\n",
        "\n",
        "# Division number\n",
        "N = 4\n",
        "# Number of samples after division\n",
        "num = X_train.shape[0]//N\n",
        "\n",
        "# list of learning models\n",
        "model_list = [LinearRegression, SVR, DecisionTreeRegressor]\n",
        "\n",
        "# list for retrieving trained models\n",
        "model_para=[]\n",
        "model_para_all = []\n",
        "\n",
        "# Empty data to store the blend data\n",
        "blend_data = np.zeros([y_train.shape[0], len(model_list)])\n",
        "\n",
        "for i, model in enumerate(model_list):\n",
        "     # Initialize per-model list\n",
        "     model_para = []\n",
        "     for n in range(N):\n",
        "         # No shuffling here, as train_test_split is shuffling\n",
        "         # get index after split\n",
        "         index_valid = [a for a in range(num*n, num*(n+1))]\n",
        "         index_train = [i for i in index_list if i not in index_valid]\n",
        "         # study\n",
        "         model_reg = model().fit(X_train[index_train], y_train[index_train])\n",
        "         # predict\n",
        "         blend_data[index_valid, i] = model_reg.predict(X_train[index_valid])\n",
        "         # get model\n",
        "         model_para.append(model_reg)\n",
        "     model_para_all.append(model_para)\n",
        "\n",
        "print(blend_data.shape)"
      ],
      "metadata": {
        "colab": {
          "base_uri": "https://localhost:8080/"
        },
        "id": "E3XAlW7M_zy-",
        "outputId": "17f22281-1904-44e4-8033-2a42acb36e17"
      },
      "execution_count": null,
      "outputs": [
        {
          "output_type": "stream",
          "name": "stdout",
          "text": [
            "(1168, 3)\n"
          ]
        }
      ]
    },
    {
      "cell_type": "code",
      "source": [
        "# Model that makes the final estimation.\n",
        "svr_st = SVR(C=1.0, epsilon=0.2, kernel=\"linear\").fit(blend_data, y_train)"
      ],
      "metadata": {
        "id": "2tq0p6mhNFQJ"
      },
      "execution_count": null,
      "outputs": []
    },
    {
      "cell_type": "code",
      "source": [
        "# cross-validation prediction\n",
        "\n",
        "# Initialize predictor\n",
        "blend_pred = np.zeros([y_valid.shape[0], len(model_list)], dtype=float)\n",
        "# predict\n",
        "for n, models in enumerate(model_para_all):\n",
        "     # Initialize predictions for each model\n",
        "     pred = np.zeros_like(y_valid)\n",
        "     for model in models:\n",
        "        pred = pred + model.predict(X_valid)\n",
        "     blend_pred[:, n] = pred/len(model_list)"
      ],
      "metadata": {
        "id": "PTQIs4EpNNV0"
      },
      "execution_count": null,
      "outputs": []
    },
    {
      "cell_type": "code",
      "source": [
        "# Prediction on blended data\n",
        "print(\"MSE : stacking\")\n",
        "print('{:.1e}'.format(mean_squared_error(y_valid, svr_st.predict(blend_pred))))"
      ],
      "metadata": {
        "colab": {
          "base_uri": "https://localhost:8080/"
        },
        "id": "mplW5flzO8a3",
        "outputId": "4d4616a1-d283-4f79-b5f0-e7edf3245402"
      },
      "execution_count": null,
      "outputs": [
        {
          "output_type": "stream",
          "name": "stdout",
          "text": [
            "MSE : stacking\n",
            "4.0e-01\n"
          ]
        }
      ]
    },
    {
      "cell_type": "code",
      "source": [
        "# @title Enhanced stacking\n",
        "\n",
        "# from sklearn.model_selection import StratifiedKFold\n",
        "\n",
        "# def Stacking(model,train,y,test,n_fold):\n",
        "#     folds=StratifiedKFold(n_splits=n_fold,random_state=1)\n",
        "#     test_pred=np.empty((test.shape[0],1),float)\n",
        "#     train_pred=np.empty((0,1),float)\n",
        "#     for train_indices,val_indices in folds.split(train,y.values):\n",
        "#         x_train,x_val=train.iloc[train_indices],train.iloc[val_indices]\n",
        "#         y_train,y_val=y.iloc[train_indices],y.iloc[val_indices]\n",
        "\n",
        "#         model.fit(X=x_train,y=y_train)\n",
        "#         train_pred=np.append(train_pred,model.predict(x_val))\n",
        "#         test_pred=np.append(test_pred,model.predict(test))\n",
        "#     return test_pred.reshape(-1,1),train_pred"
      ],
      "metadata": {
        "cellView": "form",
        "id": "6ZFN2vDKzv_J"
      },
      "execution_count": null,
      "outputs": []
    }
  ]
}