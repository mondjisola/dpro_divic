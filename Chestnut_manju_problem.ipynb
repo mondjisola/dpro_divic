{
  "nbformat": 4,
  "nbformat_minor": 0,
  "metadata": {
    "colab": {
      "provenance": [],
      "authorship_tag": "ABX9TyNq9WJh1xzXHJK+D0Kn/rF3",
      "include_colab_link": true
    },
    "kernelspec": {
      "name": "python3",
      "display_name": "Python 3"
    },
    "language_info": {
      "name": "python"
    }
  },
  "cells": [
    {
      "cell_type": "markdown",
      "metadata": {
        "id": "view-in-github",
        "colab_type": "text"
      },
      "source": [
        "<a href=\"https://colab.research.google.com/github/mondjisola/dpro_divic/blob/master/Chestnut_manju_problem.ipynb\" target=\"_parent\"><img src=\"https://colab.research.google.com/assets/colab-badge.svg\" alt=\"Open In Colab\"/></a>"
      ]
    },
    {
      "cell_type": "markdown",
      "source": [
        "[Problem] The day when chestnut buns cover the solar system"
      ],
      "metadata": {
        "id": "nMGXG0JvESsR"
      }
    },
    {
      "cell_type": "code",
      "source": [
        "import math\n",
        "\n",
        "def calculate_volume(radius):\n",
        "  return (4/3) * math.pi * radius**3\n",
        "\n",
        "def convert_minutes_to_days_hours_minutes(minutes):\n",
        "  days, remainder = divmod(minutes, 1440)  # 1440 minutes in a day\n",
        "  hours, minutes = divmod(remainder, 60)\n",
        "  return days, hours, minutes\n",
        "\n",
        "chestnut_bun_radius = 0.05  # Assuming the radius of the chestnut manju is 0.05 meters\n",
        "solar_system_radius = 4.22e12  # Average distance from the Sun to Neptune in meters\n",
        "\n",
        "chestnut_bun_volume = calculate_volume(chestnut_bun_radius)\n",
        "solar_system_volume = calculate_volume(solar_system_radius)\n",
        "\n",
        "time_elapsed = 0\n",
        "\n",
        "while chestnut_bun_volume < solar_system_volume:\n",
        "  chestnut_bun_volume *= 2\n",
        "  time_elapsed += 5\n",
        "\n",
        "days, hours, minutes = convert_minutes_to_days_hours_minutes(time_elapsed)\n",
        "\n",
        "print(f\"It will take approximately {days} days, {hours} hours, and {minutes} minutes for chestnut buns to cover the solar system.\")"
      ],
      "metadata": {
        "colab": {
          "base_uri": "https://localhost:8080/"
        },
        "id": "95ayxDI4GPO0",
        "outputId": "b5eefa18-491a-4f2b-95ac-c208d0c5667b"
      },
      "execution_count": null,
      "outputs": [
        {
          "output_type": "stream",
          "name": "stdout",
          "text": [
            "It will take approximately 0 days, 11 hours, and 35 minutes for chestnut buns to cover the solar system.\n"
          ]
        }
      ]
    },
    {
      "cell_type": "markdown",
      "source": [
        "---"
      ],
      "metadata": {
        "id": "Ie3mr6X4Ktzb"
      }
    },
    {
      "cell_type": "markdown",
      "source": [
        "Create a generic program that can be applied to other situations."
      ],
      "metadata": {
        "id": "wE_MJxe2KvZR"
      }
    },
    {
      "cell_type": "code",
      "source": [
        "def time_to_fill(target_volume, initial_volume, doubling_time):\n",
        "  time_elapsed = 0\n",
        "  volumes = [initial_volume]\n",
        "\n",
        "  while volumes[-1] < target_volume:\n",
        "    volumes.append(volumes[-1] * 2)\n",
        "    time_elapsed += doubling_time\n",
        "\n",
        "  return time_elapsed, volumes"
      ],
      "metadata": {
        "id": "x_O6vsZJLx33"
      },
      "execution_count": null,
      "outputs": []
    },
    {
      "cell_type": "markdown",
      "source": [
        "---"
      ],
      "metadata": {
        "id": "AFfBkbFRMPpU"
      }
    },
    {
      "cell_type": "markdown",
      "source": [
        "Calculate the time it takes for the Tokyo Dome to fill up when you sprinkle a ball with Byvine."
      ],
      "metadata": {
        "id": "8mi9jOBBMRfs"
      }
    },
    {
      "cell_type": "code",
      "source": [
        "baseball_volume = 0.0255 # We will do it for a baseball\n",
        "tokyo_dome_volume = 1240000 # About 1.24 million m³\n",
        "doubling_time = 5\n",
        "\n",
        "time_elapsed, volumes = time_to_fill(tokyo_dome_volume, baseball_volume, doubling_time)\n",
        "days, hours, minutes = convert_minutes_to_days_hours_minutes(time_elapsed)\n",
        "print(f\"It will take approximately {days} days, {hours} hours, and {minutes} minutes for baseballs to fill the Tokyo Dome.\")"
      ],
      "metadata": {
        "colab": {
          "base_uri": "https://localhost:8080/"
        },
        "id": "UIoHpWOoMQ25",
        "outputId": "5b87a97a-8a8b-4aed-ce98-cf5445cdff59"
      },
      "execution_count": null,
      "outputs": [
        {
          "output_type": "stream",
          "name": "stdout",
          "text": [
            "It will take approximately 0 days, 2 hours, and 10 minutes for baseballs to fill the Tokyo Dome.\n"
          ]
        }
      ]
    },
    {
      "cell_type": "markdown",
      "source": [
        "---"
      ],
      "metadata": {
        "id": "AMpGlQtlNTjF"
      }
    },
    {
      "cell_type": "markdown",
      "source": [
        "Display a graph showing growth of baseball volume other the time."
      ],
      "metadata": {
        "id": "apQsZkbkNU74"
      }
    },
    {
      "cell_type": "code",
      "source": [
        "import matplotlib.pyplot as plt\n",
        "\n",
        "plt.plot(range(0, len(volumes) * doubling_time, doubling_time), volumes, marker='o')\n",
        "plt.xlabel('Time (minutes)')\n",
        "plt.ylabel('Volume (cubic meters)')\n",
        "plt.title('Growth of baseball volume over time')\n",
        "plt.show()"
      ],
      "metadata": {
        "colab": {
          "base_uri": "https://localhost:8080/",
          "height": 472
        },
        "id": "NiB4yE5RNjXu",
        "outputId": "59dbdbbb-eb7f-4ea8-8a37-7734d21cb58e"
      },
      "execution_count": null,
      "outputs": [
        {
          "output_type": "display_data",
          "data": {
            "text/plain": [
              "<Figure size 640x480 with 1 Axes>"
            ],
            "image/png": "[encoded data removed]"
          },
          "metadata": {}
        }
      ]
    },
    {
      "cell_type": "markdown",
      "source": [
        "---"
      ],
      "metadata": {
        "id": "-plsnLeoOA-A"
      }
    }
  ]
}